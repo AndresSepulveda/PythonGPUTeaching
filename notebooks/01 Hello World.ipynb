{
 "cells": [
  {
   "cell_type": "markdown",
   "metadata": {},
   "source": [
    "# License\n",
    "\n",
    "    Jupyter notebook for demonstrating the simplest Python scripts\n",
    "    Copyright (C) 2018 Andre.Brodtkorb@ifi.uio.no\n",
    "\n",
    "    This program is free software: you can redistribute it and/or modify\n",
    "    it under the terms of the GNU General Public License as published by\n",
    "    the Free Software Foundation, either version 3 of the License, or\n",
    "    (at your option) any later version.\n",
    "\n",
    "    This program is distributed in the hope that it will be useful,\n",
    "    but WITHOUT ANY WARRANTY; without even the implied warranty of\n",
    "    MERCHANTABILITY or FITNESS FOR A PARTICULAR PURPOSE.  See the\n",
    "    GNU General Public License for more details.\n",
    "\n",
    "    You should have received a copy of the GNU General Public License\n",
    "    along with this program.  If not, see <http://www.gnu.org/licenses/>."
   ]
  },
  {
   "cell_type": "code",
   "execution_count": 1,
   "metadata": {},
   "outputs": [
    {
     "name": "stdout",
     "output_type": "stream",
     "text": [
      "Hello Milano!\n"
     ]
    }
   ],
   "source": [
    "#Printing out some information\n",
    "print(\"Hello Milano!\")"
   ]
  },
  {
   "cell_type": "code",
   "execution_count": 2,
   "metadata": {},
   "outputs": [
    {
     "name": "stdout",
     "output_type": "stream",
     "text": [
      "Hello Milano 2018\n"
     ]
    }
   ],
   "source": [
    "i = 2\n",
    "\n",
    "#For loops are indented\n",
    "for j in range(64):\n",
    "    i = i + j\n",
    "    \n",
    "print(\"Hello Milano \" + str(i))"
   ]
  },
  {
   "cell_type": "code",
   "execution_count": 3,
   "metadata": {},
   "outputs": [
    {
     "name": "stdout",
     "output_type": "stream",
     "text": [
      "Y2K passed\n"
     ]
    }
   ],
   "source": [
    "#Conditionals\n",
    "if (i < 2000):\n",
    "    print(\"Y2K will comme!\")\n",
    "elif (i >= 2500):\n",
    "    print(\"Y3K is approaching!\")\n",
    "else:\n",
    "    print(\"Y2K passed\")"
   ]
  },
  {
   "cell_type": "code",
   "execution_count": 4,
   "metadata": {},
   "outputs": [
    {
     "name": "stdout",
     "output_type": "stream",
     "text": [
      "Calling a function gave 11\n"
     ]
    }
   ],
   "source": [
    "def my_function(x):\n",
    "    return x*3 + 2\n",
    "\n",
    "print(\"Calling a function gave \" + str(my_function(3)))"
   ]
  },
  {
   "cell_type": "code",
   "execution_count": 5,
   "metadata": {},
   "outputs": [
    {
     "data": {
      "text/plain": [
       "<matplotlib.legend.Legend at 0x7f59150142b0>"
      ]
     },
     "execution_count": 5,
     "metadata": {},
     "output_type": "execute_result"
    },
    {
     "data": {
      "image/png": "[encoded data removed]",
      "text/plain": [
       "<matplotlib.figure.Figure at 0x7f59174b1550>"
      ]
     },
     "metadata": {
      "needs_background": "light"
     },
     "output_type": "display_data"
    }
   ],
   "source": [
    "%matplotlib inline\n",
    "from matplotlib import pyplot as plt\n",
    "\n",
    "plt.plot(range(1, 10), range(3, 12), 'x-', label=\"A line\")\n",
    "plt.legend()"
   ]
  },
  {
   "cell_type": "code",
   "execution_count": 6,
   "metadata": {},
   "outputs": [
    {
     "name": "stdout",
     "output_type": "stream",
     "text": [
      "A Red Chevrolet\n",
      "A Blue Chevrolet\n"
     ]
    }
   ],
   "source": [
    "#A simple class\n",
    "class Car:\n",
    "    def __init__(self, color, make):\n",
    "        self.color = color\n",
    "        self.make = make\n",
    "        \n",
    "    def __str__(self):\n",
    "        return \"A \" + str(self.color) + \" \" + str(self.make)\n",
    "    \n",
    "    def paint(self, color):\n",
    "        self.color = color\n",
    "        \n",
    "a = Car(\"Red\", \"Chevrolet\")\n",
    "print(a)\n",
    "a.paint(\"Blue\")\n",
    "print(a)"
   ]
  },
  {
   "cell_type": "code",
   "execution_count": 7,
   "metadata": {},
   "outputs": [
    {
     "data": {
      "text/plain": [
       "<matplotlib.colorbar.Colorbar at 0x7f5914f14668>"
      ]
     },
     "execution_count": 7,
     "metadata": {},
     "output_type": "execute_result"
    },
    {
     "data": {
      "image/png": "[encoded data removed]",
      "text/plain": [
       "<matplotlib.figure.Figure at 0x7f5939f0e198>"
      ]
     },
     "metadata": {
      "needs_background": "light"
     },
     "output_type": "display_data"
    }
   ],
   "source": [
    "#Matrices\n",
    "import numpy as np\n",
    "\n",
    "rows = 10\n",
    "cols = 15\n",
    "A = np.random.random((rows, cols))\n",
    "b = np.ones((cols, 1))\n",
    "\n",
    "plt.imshow(A, origin='lower')\n",
    "plt.colorbar()"
   ]
  },
  {
   "cell_type": "code",
   "execution_count": 8,
   "metadata": {},
   "outputs": [
    {
     "name": "stdout",
     "output_type": "stream",
     "text": [
      "[[7.27233938]\n",
      " [8.31081308]\n",
      " [8.65109157]\n",
      " [6.51555988]\n",
      " [7.1281748 ]\n",
      " [6.02889661]\n",
      " [7.75120205]\n",
      " [6.29015557]\n",
      " [7.29331513]\n",
      " [7.31137605]]\n"
     ]
    }
   ],
   "source": [
    "#Matrix multiplication\n",
    "c = np.matmul(A, b)\n",
    "print(c)"
   ]
  },
  {
   "cell_type": "code",
   "execution_count": 9,
   "metadata": {},
   "outputs": [
    {
     "data": {
      "text/plain": [
       "[<matplotlib.lines.Line2D at 0x7f5914e951d0>]"
      ]
     },
     "execution_count": 9,
     "metadata": {},
     "output_type": "execute_result"
    },
    {
     "data": {
      "image/png": "[encoded data removed]",
      "text/plain": [
       "<matplotlib.figure.Figure at 0x7f5914fbfe48>"
      ]
     },
     "metadata": {
      "needs_background": "light"
     },
     "output_type": "display_data"
    }
   ],
   "source": [
    "#Plotting some simple data\n",
    "x = np.linspace(0, 10, 100)\n",
    "y = np.sin(x)*x\n",
    "\n",
    "plt.figure()\n",
    "plt.plot(x, y)"
   ]
  },
  {
   "cell_type": "code",
   "execution_count": 10,
   "metadata": {},
   "outputs": [
    {
     "name": "stdout",
     "output_type": "stream",
     "text": [
      "-5.0\n"
     ]
    }
   ],
   "source": [
    "#Anonymous functions\n",
    "my_function = lambda x, y: (x + y) / (x - y)\n",
    "print(my_function(10, 15))"
   ]
  },
  {
   "cell_type": "code",
   "execution_count": null,
   "metadata": {},
   "outputs": [],
   "source": []
  }
 ],
 "metadata": {
  "kernelspec": {
   "display_name": "Python 3",
   "language": "python",
   "name": "python3"
  },
  "language_info": {
   "codemirror_mode": {
    "name": "ipython",
    "version": 3
   },
   "file_extension": ".py",
   "mimetype": "text/x-python",
   "name": "python",
   "nbconvert_exporter": "python",
   "pygments_lexer": "ipython3",
   "version": "3.6.6"
  }
 },
 "nbformat": 4,
 "nbformat_minor": 2
}
