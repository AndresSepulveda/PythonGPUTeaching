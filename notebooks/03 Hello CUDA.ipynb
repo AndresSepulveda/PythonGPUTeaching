{
 "cells": [
  {
   "cell_type": "markdown",
   "metadata": {},
   "source": [
    "# License\n",
    "\n",
    "    IPython notebook for running a trivial OpenCL program\n",
    "    Copyright (C) 2018 Andre.Brodtkorb@ifi.uio.no\n",
    "\n",
    "    This program is free software: you can redistribute it and/or modify\n",
    "    it under the terms of the GNU General Public License as published by\n",
    "    the Free Software Foundation, either version 3 of the License, or\n",
    "    (at your option) any later version.\n",
    "\n",
    "    This program is distributed in the hope that it will be useful,\n",
    "    but WITHOUT ANY WARRANTY; without even the implied warranty of\n",
    "    MERCHANTABILITY or FITNESS FOR A PARTICULAR PURPOSE.  See the\n",
    "    GNU General Public License for more details.\n",
    "\n",
    "    You should have received a copy of the GNU General Public License\n",
    "    along with this program.  If not, see <http://www.gnu.org/licenses/>."
   ]
  },
  {
   "cell_type": "code",
   "execution_count": 1,
   "metadata": {},
   "outputs": [],
   "source": [
    "#Lets have matplotlib \"inline\"\n",
    "%matplotlib inline\n",
    "\n",
    "#Import packages we need\n",
    "import numpy as np\n",
    "import pycuda.compiler as cuda_compiler\n",
    "from pycuda.gpuarray import GPUArray\n",
    "import pycuda.driver as cuda_driver\n",
    "\n",
    "from matplotlib import pyplot as plt"
   ]
  },
  {
   "cell_type": "code",
   "execution_count": 2,
   "metadata": {},
   "outputs": [],
   "source": [
    "#Initialize CUDA - must be first call to CUDA!\n",
    "cuda_driver.init()"
   ]
  },
  {
   "cell_type": "code",
   "execution_count": 3,
   "metadata": {},
   "outputs": [
    {
     "name": "stdout",
     "output_type": "stream",
     "text": [
      "Using 'Tesla K80'\n",
      " => compute capability: (3, 7)\n",
      " => memory: 11308 / 11441 MB available\n"
     ]
    }
   ],
   "source": [
    "#Create CUDA context\n",
    "cuda_device = cuda_driver.Device(0)\n",
    "print(\"Using '{:s}'\".format(cuda_device.name()))\n",
    "print(\" => compute capability: {:s}\".format(str(cuda_device.compute_capability())))\n",
    "context = cuda_device.make_context()\n",
    "free, total = cuda_driver.mem_get_info()\n",
    "print(\" => memory: {:d} / {:d} MB available\".format(int(free/(1024*1024)), int(total/(1024*1024))))"
   ]
  },
  {
   "cell_type": "code",
   "execution_count": 4,
   "metadata": {},
   "outputs": [],
   "source": [
    "cuda_kernel = \"\"\"\n",
    "__global__ void addKernel(float* c, float* a, float* b) {\n",
    "    unsigned int i = blockIdx.x*blockDim.x + threadIdx.x;\n",
    "    c[i] = a[i] + b[i];\n",
    "}\n",
    "\"\"\"\n",
    "module = cuda_compiler.SourceModule(cuda_kernel)\n",
    "kernel = module.get_function(\"addKernel\");"
   ]
  },
  {
   "cell_type": "code",
   "execution_count": 5,
   "metadata": {},
   "outputs": [
    {
     "data": {
      "text/plain": [
       "array([1.3291438 , 0.47960266, 1.007201  , 0.73570955, 1.4101658 ,\n",
       "       0.8697999 , 0.5023379 , 1.2315803 , 1.231914  , 0.9298241 ,\n",
       "       1.3545988 , 1.4854195 , 1.3867979 , 1.5110474 , 0.7364436 ,\n",
       "       0.82137096, 1.1126482 , 1.5477593 , 1.164558  , 0.60025775,\n",
       "       0.9306092 , 1.388258  , 1.4588392 , 1.1366779 , 1.2843124 ,\n",
       "       1.5442891 , 1.4398391 , 1.8537481 , 0.8215427 , 1.5744338 ,\n",
       "       1.4577188 , 1.6797161 , 0.9374253 , 0.7783043 , 1.1093285 ,\n",
       "       1.4319348 , 0.50848746, 1.2785339 , 0.9836307 , 1.7219236 ,\n",
       "       0.41338444, 1.5525684 , 1.0094954 , 0.83291376, 0.95939374,\n",
       "       1.2215554 , 1.0500133 , 1.5669277 , 0.9158714 , 0.9413029 ],\n",
       "      dtype=float32)"
      ]
     },
     "execution_count": 5,
     "metadata": {},
     "output_type": "execute_result"
    }
   ],
   "source": [
    "#Size of our test\n",
    "n = 50\n",
    "\n",
    "#Create test input / output data\n",
    "a = np.random.rand(n).astype(np.float32)\n",
    "b = np.random.rand(n).astype(np.float32)\n",
    "c = np.empty_like(a)\n",
    "\n",
    "#Upload data to the device\n",
    "a_g = GPUArray(a.shape, np.float32)\n",
    "b_g = GPUArray(b.shape, np.float32)\n",
    "a_g.set(a)\n",
    "b_g.set(b)\n",
    "\n",
    "#Allocate output data\n",
    "c_g = GPUArray(c.shape, np.float32)\n",
    "\n",
    "#Execute program on device\n",
    "kernel(c_g, a_g, b_g, block=(n, 1, 1), grid=(1,1))\n",
    "\n",
    "#Copy data from device to host\n",
    "c_g.get(c)"
   ]
  },
  {
   "cell_type": "code",
   "execution_count": 6,
   "metadata": {},
   "outputs": [
    {
     "name": "stdout",
     "output_type": "stream",
     "text": [
      "C   =  [1.3291438  0.47960266 1.007201   0.73570955 1.4101658  0.8697999\n",
      " 0.5023379  1.2315803  1.231914   0.9298241  1.3545988  1.4854195\n",
      " 1.3867979  1.5110474  0.7364436  0.82137096 1.1126482  1.5477593\n",
      " 1.164558   0.60025775 0.9306092  1.388258   1.4588392  1.1366779\n",
      " 1.2843124  1.5442891  1.4398391  1.8537481  0.8215427  1.5744338\n",
      " 1.4577188  1.6797161  0.9374253  0.7783043  1.1093285  1.4319348\n",
      " 0.50848746 1.2785339  0.9836307  1.7219236  0.41338444 1.5525684\n",
      " 1.0094954  0.83291376 0.95939374 1.2215554  1.0500133  1.5669277\n",
      " 0.9158714  0.9413029 ]\n",
      "Ref =  [1.3291438  0.47960266 1.007201   0.73570955 1.4101658  0.8697999\n",
      " 0.5023379  1.2315803  1.231914   0.9298241  1.3545988  1.4854195\n",
      " 1.3867979  1.5110474  0.7364436  0.82137096 1.1126482  1.5477593\n",
      " 1.164558   0.60025775 0.9306092  1.388258   1.4588392  1.1366779\n",
      " 1.2843124  1.5442891  1.4398391  1.8537481  0.8215427  1.5744338\n",
      " 1.4577188  1.6797161  0.9374253  0.7783043  1.1093285  1.4319348\n",
      " 0.50848746 1.2785339  0.9836307  1.7219236  0.41338444 1.5525684\n",
      " 1.0094954  0.83291376 0.95939374 1.2215554  1.0500133  1.5669277\n",
      " 0.9158714  0.9413029 ]\n",
      "Sad =  0.0\n"
     ]
    }
   ],
   "source": [
    "#Compute reference using Numpy\n",
    "c_ref = a + b\n",
    "\n",
    "#Print result\n",
    "print(\"C   = \", c)\n",
    "print(\"Ref = \", c_ref)\n",
    "print(\"Sad = \", np.sum(np.abs(c - c_ref)))"
   ]
  },
  {
   "cell_type": "code",
   "execution_count": 7,
   "metadata": {},
   "outputs": [
    {
     "data": {
      "text/plain": [
       "[<matplotlib.lines.Line2D at 0x7f3f884692e8>]"
      ]
     },
     "execution_count": 7,
     "metadata": {},
     "output_type": "execute_result"
    },
    {
     "data": {
      "image/png": "[encoded data removed]",
      "text/plain": [
       "<matplotlib.figure.Figure at 0x7f3f8f8a6400>"
      ]
     },
     "metadata": {
      "needs_background": "light"
     },
     "output_type": "display_data"
    }
   ],
   "source": [
    "plt.figure()\n",
    "plt.plot(c, '+r')\n",
    "plt.plot(c_ref, 'xb')"
   ]
  },
  {
   "cell_type": "code",
   "execution_count": null,
   "metadata": {},
   "outputs": [],
   "source": []
  }
 ],
 "metadata": {
  "kernelspec": {
   "display_name": "Python 3",
   "language": "python",
   "name": "python3"
  },
  "language_info": {
   "codemirror_mode": {
    "name": "ipython",
    "version": 3
   },
   "file_extension": ".py",
   "mimetype": "text/x-python",
   "name": "python",
   "nbconvert_exporter": "python",
   "pygments_lexer": "ipython3",
   "version": "3.6.6"
  }
 },
 "nbformat": 4,
 "nbformat_minor": 2
}
