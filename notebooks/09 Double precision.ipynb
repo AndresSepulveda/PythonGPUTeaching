{
 "cells": [
  {
   "cell_type": "markdown",
   "metadata": {},
   "source": [
    "# License\n",
    "\n",
    "    IPython notebook for running a trivial OpenCL program\n",
    "    Copyright (C) 2018 Andre.Brodtkorb@ifi.uio.no\n",
    "\n",
    "    This program is free software: you can redistribute it and/or modify\n",
    "    it under the terms of the GNU General Public License as published by\n",
    "    the Free Software Foundation, either version 3 of the License, or\n",
    "    (at your option) any later version.\n",
    "\n",
    "    This program is distributed in the hope that it will be useful,\n",
    "    but WITHOUT ANY WARRANTY; without even the implied warranty of\n",
    "    MERCHANTABILITY or FITNESS FOR A PARTICULAR PURPOSE.  See the\n",
    "    GNU General Public License for more details.\n",
    "\n",
    "    You should have received a copy of the GNU General Public License\n",
    "    along with this program.  If not, see <http://www.gnu.org/licenses/>."
   ]
  },
  {
   "cell_type": "code",
   "execution_count": 4,
   "metadata": {},
   "outputs": [],
   "source": [
    "#Lets have matplotlib \"inline\"\n",
    "%matplotlib inline\n",
    "\n",
    "#Import packages we need\n",
    "import numpy as np\n",
    "import pycuda.compiler as cuda_compiler\n",
    "from pycuda.gpuarray import GPUArray\n",
    "import pycuda.driver as cuda_driver\n",
    "\n",
    "from matplotlib import pyplot as plt\n",
    "\n",
    "import IPythonMagic"
   ]
  },
  {
   "cell_type": "code",
   "execution_count": 5,
   "metadata": {},
   "outputs": [
    {
     "name": "stderr",
     "output_type": "stream",
     "text": [
      "Python version 3.6.5 |Anaconda custom (64-bit)| (default, Mar 29 2018, 13:32:41) [MSC v.1900 64 bit (AMD64)]\n",
      "Registering context in user workspace\n",
      "Creating context\n",
      "PyCUDA version 2017.1.1\n",
      "CUDA version (9, 1, 0)\n",
      "Driver version 9010\n",
      "Using 'GeForce 840M' GPU\n",
      " => compute capability: (5, 0)\n",
      " => memory: 1912 / 2048 MB available\n",
      "Created context handle <121475575184>\n",
      "Using CUDA cache dir c:\\Users\\anbro\\Documents\\projects\\demos\\MilanoGPU2018\\notebooks\\cuda_cache\n"
     ]
    }
   ],
   "source": [
    "%setup_logging\n",
    "%cuda_context_handler context"
   ]
  },
  {
   "cell_type": "code",
   "execution_count": 7,
   "metadata": {},
   "outputs": [],
   "source": [
    "cuda_kernel = \"\"\"\n",
    "__global__ void doubleKernel(double* c, double* a, double* b) {\n",
    "    unsigned int i = blockIdx.x*blockDim.x + threadIdx.x;\n",
    "    c[i] = a[i] + b[i];\n",
    "}\n",
    "\"\"\"\n",
    "module = cuda_compiler.SourceModule(cuda_kernel)\n",
    "kernel = module.get_function(\"doubleKernel\");"
   ]
  },
  {
   "cell_type": "code",
   "execution_count": 8,
   "metadata": {},
   "outputs": [
    {
     "data": {
      "text/plain": [
       "array([1.03937701, 1.54899807, 1.2936836 , 0.98001411, 1.02886136,\n",
       "       0.72573593, 0.92432749, 0.74537843, 1.19628165, 1.75878181,\n",
       "       1.68677797, 1.31211251, 1.63306119, 1.45626846, 0.84939096,\n",
       "       1.26875692, 0.61663251, 0.8866682 , 0.64186924, 0.69346752,\n",
       "       0.33482527, 0.79459026, 1.58058135, 1.00496565, 0.23785216,\n",
       "       0.95344631, 1.09386413, 1.14627864, 0.42661955, 1.14320316,\n",
       "       0.7569827 , 0.03474679, 1.21722046, 1.12094667, 0.465925  ,\n",
       "       1.01684836, 0.99098671, 0.29797043, 0.96306114, 0.9681057 ,\n",
       "       1.12654158, 0.4957133 , 1.19452673, 0.96193658, 0.57986463,\n",
       "       1.28613754, 1.33049838, 1.06498568, 0.77353962, 1.68086806])"
      ]
     },
     "execution_count": 8,
     "metadata": {},
     "output_type": "execute_result"
    }
   ],
   "source": [
    "#Size of our test\n",
    "n = 50\n",
    "\n",
    "#Create test input / output data\n",
    "a = np.random.rand(n)\n",
    "b = np.random.rand(n)\n",
    "c = np.empty_like(a)\n",
    "\n",
    "#Upload data to the device\n",
    "a_g = GPUArray(a.shape, a.dtype)\n",
    "b_g = GPUArray(b.shape, b.dtype)\n",
    "a_g.set(a)\n",
    "b_g.set(b)\n",
    "\n",
    "#Allocate output data\n",
    "c_g = GPUArray(c.shape, a.dtype)\n",
    "\n",
    "#Execute program on device\n",
    "kernel(c_g, a_g, b_g, block=(n, 1, 1), grid=(1,1))\n",
    "\n",
    "#Copy data from device to host\n",
    "c_g.get(c)"
   ]
  },
  {
   "cell_type": "code",
   "execution_count": 9,
   "metadata": {},
   "outputs": [
    {
     "name": "stdout",
     "output_type": "stream",
     "text": [
      "C   =  [1.03937701 1.54899807 1.2936836  0.98001411 1.02886136 0.72573593\n",
      " 0.92432749 0.74537843 1.19628165 1.75878181 1.68677797 1.31211251\n",
      " 1.63306119 1.45626846 0.84939096 1.26875692 0.61663251 0.8866682\n",
      " 0.64186924 0.69346752 0.33482527 0.79459026 1.58058135 1.00496565\n",
      " 0.23785216 0.95344631 1.09386413 1.14627864 0.42661955 1.14320316\n",
      " 0.7569827  0.03474679 1.21722046 1.12094667 0.465925   1.01684836\n",
      " 0.99098671 0.29797043 0.96306114 0.9681057  1.12654158 0.4957133\n",
      " 1.19452673 0.96193658 0.57986463 1.28613754 1.33049838 1.06498568\n",
      " 0.77353962 1.68086806]\n",
      "Ref =  [1.03937701 1.54899807 1.2936836  0.98001411 1.02886136 0.72573593\n",
      " 0.92432749 0.74537843 1.19628165 1.75878181 1.68677797 1.31211251\n",
      " 1.63306119 1.45626846 0.84939096 1.26875692 0.61663251 0.8866682\n",
      " 0.64186924 0.69346752 0.33482527 0.79459026 1.58058135 1.00496565\n",
      " 0.23785216 0.95344631 1.09386413 1.14627864 0.42661955 1.14320316\n",
      " 0.7569827  0.03474679 1.21722046 1.12094667 0.465925   1.01684836\n",
      " 0.99098671 0.29797043 0.96306114 0.9681057  1.12654158 0.4957133\n",
      " 1.19452673 0.96193658 0.57986463 1.28613754 1.33049838 1.06498568\n",
      " 0.77353962 1.68086806]\n",
      "Sad =  0.0\n"
     ]
    }
   ],
   "source": [
    "#Compute reference using Numpy\n",
    "c_ref = a + b\n",
    "\n",
    "#Print result\n",
    "print(\"C   = \", c)\n",
    "print(\"Ref = \", c_ref)\n",
    "print(\"Sad = \", np.sum(np.abs(c - c_ref)))"
   ]
  },
  {
   "cell_type": "code",
   "execution_count": 10,
   "metadata": {},
   "outputs": [
    {
     "data": {
      "text/plain": [
       "[<matplotlib.lines.Line2D at 0x1c4d28fb00>]"
      ]
     },
     "execution_count": 10,
     "metadata": {},
     "output_type": "execute_result"
    },
    {
     "name": "stderr",
     "output_type": "stream",
     "text": [
      "findfont: Matching :family=sans-serif:style=normal:variant=normal:weight=normal:stretch=normal:size=10.0 to DejaVu Sans ('C:\\\\Users\\\\anbro\\\\AppData\\\\Local\\\\Continuum\\\\anaconda3\\\\lib\\\\site-packages\\\\matplotlib\\\\mpl-data\\\\fonts\\\\ttf\\\\DejaVuSans.ttf') with score of 0.050000\n"
     ]
    },
    {
     "data": {
      "image/png": "[encoded data removed]",
      "text/plain": [
       "<Figure size 864x576 with 1 Axes>"
      ]
     },
     "metadata": {},
     "output_type": "display_data"
    }
   ],
   "source": [
    "plt.figure(figsize=(12,8))\n",
    "plt.plot(c, '+r')\n",
    "plt.plot(c_ref, 'xb')"
   ]
  },
  {
   "cell_type": "code",
   "execution_count": null,
   "metadata": {},
   "outputs": [],
   "source": []
  }
 ],
 "metadata": {
  "kernelspec": {
   "display_name": "Python 3",
   "language": "python",
   "name": "python3"
  },
  "language_info": {
   "codemirror_mode": {
    "name": "ipython",
    "version": 3
   },
   "file_extension": ".py",
   "mimetype": "text/x-python",
   "name": "python",
   "nbconvert_exporter": "python",
   "pygments_lexer": "ipython3",
   "version": "3.6.5"
  }
 },
 "nbformat": 4,
 "nbformat_minor": 2
}
