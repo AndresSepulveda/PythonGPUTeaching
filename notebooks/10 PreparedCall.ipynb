{
 "cells": [
  {
   "cell_type": "markdown",
   "metadata": {},
   "source": [
    "# License\n",
    "\n",
    "    IPython notebook for running a trivial OpenCL program\n",
    "    Copyright (C) 2018 Andre.Brodtkorb@ifi.uio.no\n",
    "\n",
    "    This program is free software: you can redistribute it and/or modify\n",
    "    it under the terms of the GNU General Public License as published by\n",
    "    the Free Software Foundation, either version 3 of the License, or\n",
    "    (at your option) any later version.\n",
    "\n",
    "    This program is distributed in the hope that it will be useful,\n",
    "    but WITHOUT ANY WARRANTY; without even the implied warranty of\n",
    "    MERCHANTABILITY or FITNESS FOR A PARTICULAR PURPOSE.  See the\n",
    "    GNU General Public License for more details.\n",
    "\n",
    "    You should have received a copy of the GNU General Public License\n",
    "    along with this program.  If not, see <http://www.gnu.org/licenses/>."
   ]
  },
  {
   "cell_type": "code",
   "execution_count": 3,
   "metadata": {},
   "outputs": [],
   "source": [
    "#Lets have matplotlib \"inline\"\n",
    "%matplotlib inline\n",
    "\n",
    "#Import packages we need\n",
    "import numpy as np\n",
    "import pycuda.compiler as cuda_compiler\n",
    "from pycuda.gpuarray import GPUArray\n",
    "import pycuda.driver as cuda_driver\n",
    "\n",
    "from matplotlib import pyplot as plt\n",
    "\n",
    "import IPythonMagic"
   ]
  },
  {
   "cell_type": "code",
   "execution_count": 4,
   "metadata": {},
   "outputs": [
    {
     "name": "stderr",
     "output_type": "stream",
     "text": [
      "Python version 3.6.5 |Anaconda custom (64-bit)| (default, Mar 29 2018, 13:32:41) [MSC v.1900 64 bit (AMD64)]\n",
      "Registering context in user workspace\n",
      "Creating context\n",
      "PyCUDA version 2017.1.1\n",
      "CUDA version (9, 1, 0)\n",
      "Driver version 9010\n",
      "Using 'GeForce 840M' GPU\n",
      " => compute capability: (5, 0)\n",
      " => memory: 1893 / 2048 MB available\n",
      "Created context handle <582144680608>\n",
      "Using CUDA cache dir c:\\Users\\anbro\\Documents\\projects\\demos\\MilanoGPU2018\\notebooks\\cuda_cache\n"
     ]
    }
   ],
   "source": [
    "%setup_logging\n",
    "%cuda_context_handler context"
   ]
  },
  {
   "cell_type": "code",
   "execution_count": 14,
   "metadata": {},
   "outputs": [
    {
     "data": {
      "text/plain": [
       "<pycuda._driver.Function at 0x878f290180>"
      ]
     },
     "execution_count": 14,
     "metadata": {},
     "output_type": "execute_result"
    }
   ],
   "source": [
    "cuda_kernel = \"\"\"\n",
    "__global__ void addKernel(float* c, float* a, float* b) {\n",
    "    unsigned int i = blockIdx.x*blockDim.x + threadIdx.x;\n",
    "    c[i] = a[i] + b[i];\n",
    "}\n",
    "\"\"\"\n",
    "module = cuda_compiler.SourceModule(cuda_kernel)\n",
    "kernel = module.get_function(\"addKernel\")\n",
    "kernel.prepare(\"PPP\")"
   ]
  },
  {
   "cell_type": "code",
   "execution_count": 16,
   "metadata": {},
   "outputs": [
    {
     "data": {
      "text/plain": [
       "array([0.69138324, 0.817559  , 0.98523605, 0.50502264, 1.1191667 ,\n",
       "       1.4724798 , 1.8161256 , 1.4913327 , 1.0080534 , 0.85348004,\n",
       "       0.65212554, 0.78711855, 1.0809845 , 0.9324856 , 1.7191083 ,\n",
       "       0.682788  , 0.68367547, 1.0890388 , 1.536516  , 0.99880797,\n",
       "       0.77395433, 0.33196884, 1.335963  , 1.2330345 , 0.3344137 ,\n",
       "       0.98174536, 1.4501641 , 0.711464  , 1.7434068 , 1.500425  ,\n",
       "       1.8983285 , 0.7655962 , 0.64852715, 0.5238339 , 0.67376184,\n",
       "       0.6114692 , 0.50798833, 0.5744087 , 0.4294949 , 1.2669756 ,\n",
       "       1.0572217 , 1.5947752 , 0.7827667 , 0.9233859 , 0.86403453,\n",
       "       1.9638665 , 0.41928077, 0.61631966, 0.8504208 , 0.49300486],\n",
       "      dtype=float32)"
      ]
     },
     "execution_count": 16,
     "metadata": {},
     "output_type": "execute_result"
    }
   ],
   "source": [
    "#Size of our test\n",
    "n = 50\n",
    "\n",
    "#Create test input / output data\n",
    "a = np.random.rand(n).astype(np.float32)\n",
    "b = np.random.rand(n).astype(np.float32)\n",
    "c = np.empty_like(a)\n",
    "\n",
    "#Upload data to the device\n",
    "a_g = GPUArray(a.shape, np.float32)\n",
    "b_g = GPUArray(b.shape, np.float32)\n",
    "a_g.set(a)\n",
    "b_g.set(b)\n",
    "\n",
    "#Allocate output data\n",
    "c_g = GPUArray(c.shape, np.float32)\n",
    "\n",
    "#Execute program on device\n",
    "grid = (n, 1, 1)\n",
    "block = (1, 1, 1)\n",
    "kernel.prepared_call(grid, block, c_g.gpudata, a_g.gpudata, b_g.gpudata)\n",
    "\n",
    "#Copy data from device to host\n",
    "c_g.get(c)"
   ]
  },
  {
   "cell_type": "code",
   "execution_count": 17,
   "metadata": {},
   "outputs": [
    {
     "name": "stdout",
     "output_type": "stream",
     "text": [
      "C   =  [0.69138324 0.817559   0.98523605 0.50502264 1.1191667  1.4724798\n",
      " 1.8161256  1.4913327  1.0080534  0.85348004 0.65212554 0.78711855\n",
      " 1.0809845  0.9324856  1.7191083  0.682788   0.68367547 1.0890388\n",
      " 1.536516   0.99880797 0.77395433 0.33196884 1.335963   1.2330345\n",
      " 0.3344137  0.98174536 1.4501641  0.711464   1.7434068  1.500425\n",
      " 1.8983285  0.7655962  0.64852715 0.5238339  0.67376184 0.6114692\n",
      " 0.50798833 0.5744087  0.4294949  1.2669756  1.0572217  1.5947752\n",
      " 0.7827667  0.9233859  0.86403453 1.9638665  0.41928077 0.61631966\n",
      " 0.8504208  0.49300486]\n",
      "Ref =  [0.69138324 0.817559   0.98523605 0.50502264 1.1191667  1.4724798\n",
      " 1.8161256  1.4913327  1.0080534  0.85348004 0.65212554 0.78711855\n",
      " 1.0809845  0.9324856  1.7191083  0.682788   0.68367547 1.0890388\n",
      " 1.536516   0.99880797 0.77395433 0.33196884 1.335963   1.2330345\n",
      " 0.3344137  0.98174536 1.4501641  0.711464   1.7434068  1.500425\n",
      " 1.8983285  0.7655962  0.64852715 0.5238339  0.67376184 0.6114692\n",
      " 0.50798833 0.5744087  0.4294949  1.2669756  1.0572217  1.5947752\n",
      " 0.7827667  0.9233859  0.86403453 1.9638665  0.41928077 0.61631966\n",
      " 0.8504208  0.49300486]\n",
      "Sad =  0.0\n"
     ]
    }
   ],
   "source": [
    "#Compute reference using Numpy\n",
    "c_ref = a + b\n",
    "\n",
    "#Print result\n",
    "print(\"C   = \", c)\n",
    "print(\"Ref = \", c_ref)\n",
    "print(\"Sad = \", np.sum(np.abs(c - c_ref)))"
   ]
  },
  {
   "cell_type": "code",
   "execution_count": 18,
   "metadata": {},
   "outputs": [
    {
     "data": {
      "text/plain": [
       "[<matplotlib.lines.Line2D at 0x878face9b0>]"
      ]
     },
     "execution_count": 18,
     "metadata": {},
     "output_type": "execute_result"
    },
    {
     "name": "stderr",
     "output_type": "stream",
     "text": [
      "findfont: Matching :family=sans-serif:style=normal:variant=normal:weight=normal:stretch=normal:size=10.0 to DejaVu Sans ('C:\\\\Users\\\\anbro\\\\AppData\\\\Local\\\\Continuum\\\\anaconda3\\\\lib\\\\site-packages\\\\matplotlib\\\\mpl-data\\\\fonts\\\\ttf\\\\DejaVuSans.ttf') with score of 0.050000\n"
     ]
    },
    {
     "data": {
      "image/png": "[encoded data removed]",
      "text/plain": [
       "<Figure size 864x576 with 1 Axes>"
      ]
     },
     "metadata": {},
     "output_type": "display_data"
    }
   ],
   "source": [
    "plt.figure(figsize=(12,8))\n",
    "plt.plot(c, '+r')\n",
    "plt.plot(c_ref, 'xb')"
   ]
  },
  {
   "cell_type": "code",
   "execution_count": null,
   "metadata": {},
   "outputs": [],
   "source": [
    "#free cuda context\n",
    "context.detach()\n",
    "context = None"
   ]
  }
 ],
 "metadata": {
  "kernelspec": {
   "display_name": "Python 3",
   "language": "python",
   "name": "python3"
  },
  "language_info": {
   "codemirror_mode": {
    "name": "ipython",
    "version": 3
   },
   "file_extension": ".py",
   "mimetype": "text/x-python",
   "name": "python",
   "nbconvert_exporter": "python",
   "pygments_lexer": "ipython3",
   "version": "3.6.5"
  }
 },
 "nbformat": 4,
 "nbformat_minor": 2
}
