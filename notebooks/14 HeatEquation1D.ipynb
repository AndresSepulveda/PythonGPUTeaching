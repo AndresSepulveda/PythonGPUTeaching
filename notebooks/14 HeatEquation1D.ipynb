{
 "cells": [
  {
   "cell_type": "markdown",
   "metadata": {},
   "source": [
    "# License\n",
    "    IPython notebook for simulating the linear wave equation with CUDA\n",
    "    Copyright (C) 2015, 2018 Andre.Brodtkorb@ifi.uio.no\n",
    "\n",
    "    This program is free software: you can redistribute it and/or modify\n",
    "    it under the terms of the GNU General Public License as published by\n",
    "    the Free Software Foundation, either version 3 of the License, or\n",
    "    (at your option) any later version.\n",
    "\n",
    "    This program is distributed in the hope that it will be useful,\n",
    "    but WITHOUT ANY WARRANTY; without even the implied warranty of\n",
    "    MERCHANTABILITY or FITNESS FOR A PARTICULAR PURPOSE.  See the\n",
    "    GNU General Public License for more details.\n",
    "\n",
    "    You should have received a copy of the GNU General Public License\n",
    "    along with this program.  If not, see <http://www.gnu.org/licenses/>."
   ]
  },
  {
   "cell_type": "code",
   "execution_count": 1,
   "metadata": {},
   "outputs": [],
   "source": [
    "%matplotlib inline \n",
    "\n",
    "#Import packages we need\n",
    "import numpy as np\n",
    "from matplotlib import animation, rc, cm\n",
    "from matplotlib import pyplot as plt\n",
    "\n",
    "import pycuda.compiler as cuda_compiler\n",
    "import pycuda.driver as cuda_driver\n",
    "from pycuda.gpuarray import GPUArray\n",
    "\n",
    "import IPythonMagic\n",
    "from Timer import Timer"
   ]
  },
  {
   "cell_type": "code",
   "execution_count": 2,
   "metadata": {},
   "outputs": [
    {
     "name": "stderr",
     "output_type": "stream",
     "text": [
      "Python version 3.6.5 |Anaconda custom (64-bit)| (default, Mar 29 2018, 13:32:41) [MSC v.1900 64 bit (AMD64)]\n",
      "Registering context in user workspace\n",
      "Creating context\n",
      "PyCUDA version 2017.1.1\n",
      "CUDA version (9, 1, 0)\n",
      "Driver version 9010\n",
      "Using 'GeForce 840M' GPU\n",
      " => compute capability: (5, 0)\n",
      " => memory: 1910 / 2048 MB available\n",
      "Created context handle <297005732032>\n",
      "Using CUDA cache dir c:\\Users\\anbro\\Documents\\projects\\demos\\MilanoGPU2018\\notebooks\\cuda_cache\n"
     ]
    }
   ],
   "source": [
    "%setup_logging\n",
    "%cuda_context_handler context"
   ]
  },
  {
   "cell_type": "markdown",
   "metadata": {},
   "source": [
    "# Heat equation in 1D\n",
    "The heat equation can be written\n",
    "$$\n",
    "\\begin{align}\n",
    "\\frac{\\partial u}{\\partial t} &= \\kappa \\nabla^2 u\\\\\n",
    "&= \\kappa \\frac{\\partial^2 u}{\\partial x^2}\n",
    "\\end{align}\n",
    "$$\n",
    "where $u$ is the temperature, and $\\kappa$ is the material specific heat conduction constant. \n",
    "\n",
    "By approximating the temporal derivative with a backward difference, and the spatial derivative with a central difference, we get\n",
    "$$\n",
    "\\frac{1}{\\Delta t} (u_i^{n+1} - u_i^{n}) = \\kappa \\frac{1}{\\Delta x^2}(u_{i-1}^n - 2u_i^n + u_{i+1}^n)\n",
    "$$\n",
    "and gathering $u^n+1$ on the left hand side and $u^n$on the right, we write\n",
    "$$\n",
    "u^{n+1}_i = u_i^n + \\frac{\\kappa\\Delta t}{\\Delta x^2}(u_{i-1}^n - 2u_i^n + u_{i+1}^n)\n",
    "$$\n",
    "This discretization is unstable if the following CFL condition is not met\n",
    "$$\n",
    "\\frac{1}{2} \\gt \\frac{\\kappa\\Delta t}{\\Delta x^2}\n",
    "$$\n",
    "or \n",
    "$$\n",
    "\\Delta t \\lt \\frac{\\Delta x^2}{2\\kappa}\n",
    "$$"
   ]
  },
  {
   "cell_type": "code",
   "execution_count": 7,
   "metadata": {},
   "outputs": [
    {
     "name": "stderr",
     "output_type": "stream",
     "text": [
      "C:\\Users\\anbro\\AppData\\Local\\Continuum\\anaconda3\\lib\\site-packages\\ipykernel_launcher.py:53: UserWarning: The CUDA compiler succeeded, but said the following:\n",
      "kernel.cu\n",
      "\n",
      "Initialization: 1756.247282 ms\n"
     ]
    }
   ],
   "source": [
    "class HeatEquationGPU(object):\n",
    "    def __init__(self):\n",
    "        pass\n",
    "        \n",
    "    def initialize(self, u0, kappa, dx, dt, block_width=128):\n",
    "        self.block_size = (block_width, 1, 1)\n",
    "        self.grid_size = (int(np.ceil(nx / block_width)), 1, 1)\n",
    "        self.stream = cuda_driver.Stream()\n",
    "        \n",
    "        self.u1_g = GPUArray(u0.shape, u0.dtype)\n",
    "        self.u0_g = GPUArray(u0.shape, u0.dtype)\n",
    "        \n",
    "        self.u0_g.set_async(u0, stream=self.stream)\n",
    "        \n",
    "        self.kappa = np.float32(kappa)\n",
    "        self.dx = np.float32(dx)\n",
    "        self.dt = np.float32(dt)\n",
    "        self.nx = np.float32(u0.shape[1]-2)\n",
    "        \n",
    "        \n",
    "        cuda_kernel = \\\n",
    "        \"\"\"\n",
    "        #define BLOCK_WIDTH {:d}\n",
    "        \"\"\".format(block_width) \\\n",
    "        + \\\n",
    "        \"\"\"\n",
    "        __global__ void heatEqn(float* u1, const float* u0, float kappa, float dx, float dt, int nx) {\n",
    "            //Plus one to skip the \"ghost cells\"\n",
    "            int i = blockIdx.x*blockDim.x + threadIdx.x + 1;\n",
    "            int tx = threadIdx.x + 1;\n",
    "\n",
    "            //First read into shared memory, including the local ghost cells / apron\n",
    "            __shared__ float u0_shared[BLOCK_WIDTH+2];\n",
    "            for (int k=threadIdx.x; k<BLOCK_WIDTH+2; k += blockDim.x) {\n",
    "                int s = min(blockIdx.x*blockDim.x + k, nx);\n",
    "                u0_shared[k] = u0[s];\n",
    "            }\n",
    "            __syncthreads();\n",
    "\n",
    "            //Then fix the boundary conditions\n",
    "            if (i == 1) {\n",
    "                u0_shared[tx-1] = u0_shared[tx];\n",
    "            }\n",
    "            else if (i == nx) {\n",
    "                u0_shared[tx+1] = u0_shared[tx];\n",
    "            }\n",
    "            __syncthreads();\n",
    "\n",
    "            if (i >= 1 && i <= nx) {\n",
    "                u1[i] = u0_shared[tx] + kappa*dt/(dx*dx) * (u0_shared[tx-1] - 2.0f*u0_shared[tx] + u0_shared[tx+1]);\n",
    "            }\n",
    "        }\n",
    "        \"\"\"\n",
    "        self.module = cuda_compiler.SourceModule(cuda_kernel, \\\n",
    "                                            options=['--use_fast_math'])\n",
    "        self.heat_eqn_kernel = self.module.get_function(\"heatEqn\");\n",
    "        self.heat_eqn_kernel.prepare(\"PPfffi\")\n",
    "        \n",
    "        \n",
    "        \n",
    "    def step(self):\n",
    "        self.heat_eqn_kernel.prepared_async_call(self.grid_size, self.block_size, self.stream, \\\n",
    "                                                    self.u1_g.gpudata, self.u0_g.gpudata, \\\n",
    "                                                    kappa, dx, dt, nx)\n",
    "        self.u0_g, self.u1_g = self.u1_g, self.u0_g\n",
    "    \n",
    "    \n",
    "    def download(self):\n",
    "        #self.u2 = cuda_driver.pagelocked_empty(u1.shape, u1.dtype)\n",
    "        u0 = np.empty(self.u0_g.shape, self.u0_g.dtype)\n",
    "        self.u0_g.get(u0)\n",
    "        return u0\n",
    "        \n",
    "        \n",
    "        \n",
    "        \n",
    "        \n",
    "#Create test input data\n",
    "kappa = 1.0\n",
    "nx = 100\n",
    "dx = 1.0\n",
    "dt = 0.4 * dx**2 / (2.0*kappa)\n",
    "\n",
    "u0 = np.zeros((1, nx), dtype=np.float32)\n",
    "for i in range(nx):\n",
    "    x = (i - nx/2.0) * dx\n",
    "    if (np.sqrt(x**2) < 10*dx):\n",
    "        u0[0, i] = 10.0\n",
    "\n",
    "with Timer(\"Initialization\") as t:\n",
    "    simulator = HeatEquationGPU()\n",
    "    simulator.initialize(u0, kappa, dx, dt)"
   ]
  },
  {
   "cell_type": "code",
   "execution_count": 14,
   "metadata": {},
   "outputs": [
    {
     "name": "stderr",
     "output_type": "stream",
     "text": [
      "Animation.save using <class 'matplotlib.animation.FFMpegWriter'>\n",
      "frame size in pixels is 864 x 576\n",
      "MovieWriter.run: running command: ['ffmpeg', '-f', 'rawvideo', '-vcodec', 'rawvideo', '-s', '864x576', '-pix_fmt', 'rgba', '-r', '10.0', '-i', 'pipe:', '-vcodec', 'h264', '-pix_fmt', 'yuv420p', '-y', 'C:\\\\Users\\\\anbro\\\\AppData\\\\Local\\\\Temp\\\\tmp6ri35tgd.m4v']\n"
     ]
    },
    {
     "name": "stdout",
     "output_type": "stream",
     "text": [
      ".."
     ]
    },
    {
     "name": "stderr",
     "output_type": "stream",
     "text": [
      "MovieWriter.grab_frame: Grabbing frame.\n"
     ]
    },
    {
     "name": "stdout",
     "output_type": "stream",
     "text": [
      "."
     ]
    },
    {
     "name": "stderr",
     "output_type": "stream",
     "text": [
      "MovieWriter.grab_frame: Grabbing frame.\n"
     ]
    },
    {
     "name": "stdout",
     "output_type": "stream",
     "text": [
      "."
     ]
    },
    {
     "name": "stderr",
     "output_type": "stream",
     "text": [
      "MovieWriter.grab_frame: Grabbing frame.\n"
     ]
    },
    {
     "name": "stdout",
     "output_type": "stream",
     "text": [
      "."
     ]
    },
    {
     "name": "stderr",
     "output_type": "stream",
     "text": [
      "MovieWriter.grab_frame: Grabbing frame.\n"
     ]
    },
    {
     "name": "stdout",
     "output_type": "stream",
     "text": [
      "."
     ]
    },
    {
     "name": "stderr",
     "output_type": "stream",
     "text": [
      "MovieWriter.grab_frame: Grabbing frame.\n"
     ]
    },
    {
     "name": "stdout",
     "output_type": "stream",
     "text": [
      "."
     ]
    },
    {
     "name": "stderr",
     "output_type": "stream",
     "text": [
      "MovieWriter.grab_frame: Grabbing frame.\n"
     ]
    },
    {
     "name": "stdout",
     "output_type": "stream",
     "text": [
      "."
     ]
    },
    {
     "name": "stderr",
     "output_type": "stream",
     "text": [
      "MovieWriter.grab_frame: Grabbing frame.\n"
     ]
    },
    {
     "name": "stdout",
     "output_type": "stream",
     "text": [
      "."
     ]
    },
    {
     "name": "stderr",
     "output_type": "stream",
     "text": [
      "MovieWriter.grab_frame: Grabbing frame.\n"
     ]
    },
    {
     "name": "stdout",
     "output_type": "stream",
     "text": [
      "."
     ]
    },
    {
     "name": "stderr",
     "output_type": "stream",
     "text": [
      "MovieWriter.grab_frame: Grabbing frame.\n"
     ]
    },
    {
     "name": "stdout",
     "output_type": "stream",
     "text": [
      "."
     ]
    },
    {
     "name": "stderr",
     "output_type": "stream",
     "text": [
      "MovieWriter.grab_frame: Grabbing frame.\n"
     ]
    },
    {
     "name": "stdout",
     "output_type": "stream",
     "text": [
      "."
     ]
    },
    {
     "name": "stderr",
     "output_type": "stream",
     "text": [
      "MovieWriter.grab_frame: Grabbing frame.\n"
     ]
    },
    {
     "name": "stdout",
     "output_type": "stream",
     "text": [
      "."
     ]
    },
    {
     "name": "stderr",
     "output_type": "stream",
     "text": [
      "MovieWriter.grab_frame: Grabbing frame.\n"
     ]
    },
    {
     "name": "stdout",
     "output_type": "stream",
     "text": [
      "."
     ]
    },
    {
     "name": "stderr",
     "output_type": "stream",
     "text": [
      "MovieWriter.grab_frame: Grabbing frame.\n"
     ]
    },
    {
     "name": "stdout",
     "output_type": "stream",
     "text": [
      "."
     ]
    },
    {
     "name": "stderr",
     "output_type": "stream",
     "text": [
      "MovieWriter.grab_frame: Grabbing frame.\n"
     ]
    },
    {
     "name": "stdout",
     "output_type": "stream",
     "text": [
      "."
     ]
    },
    {
     "name": "stderr",
     "output_type": "stream",
     "text": [
      "MovieWriter.grab_frame: Grabbing frame.\n"
     ]
    },
    {
     "name": "stdout",
     "output_type": "stream",
     "text": [
      "."
     ]
    },
    {
     "name": "stderr",
     "output_type": "stream",
     "text": [
      "MovieWriter.grab_frame: Grabbing frame.\n"
     ]
    },
    {
     "name": "stdout",
     "output_type": "stream",
     "text": [
      "."
     ]
    },
    {
     "name": "stderr",
     "output_type": "stream",
     "text": [
      "MovieWriter.grab_frame: Grabbing frame.\n"
     ]
    },
    {
     "name": "stdout",
     "output_type": "stream",
     "text": [
      "."
     ]
    },
    {
     "name": "stderr",
     "output_type": "stream",
     "text": [
      "MovieWriter.grab_frame: Grabbing frame.\n"
     ]
    },
    {
     "name": "stdout",
     "output_type": "stream",
     "text": [
      "."
     ]
    },
    {
     "name": "stderr",
     "output_type": "stream",
     "text": [
      "MovieWriter.grab_frame: Grabbing frame.\n"
     ]
    },
    {
     "name": "stdout",
     "output_type": "stream",
     "text": [
      "."
     ]
    },
    {
     "name": "stderr",
     "output_type": "stream",
     "text": [
      "MovieWriter.grab_frame: Grabbing frame.\n"
     ]
    },
    {
     "name": "stdout",
     "output_type": "stream",
     "text": [
      "."
     ]
    },
    {
     "name": "stderr",
     "output_type": "stream",
     "text": [
      "MovieWriter.grab_frame: Grabbing frame.\n"
     ]
    },
    {
     "name": "stdout",
     "output_type": "stream",
     "text": [
      "."
     ]
    },
    {
     "name": "stderr",
     "output_type": "stream",
     "text": [
      "MovieWriter.grab_frame: Grabbing frame.\n"
     ]
    },
    {
     "name": "stdout",
     "output_type": "stream",
     "text": [
      "."
     ]
    },
    {
     "name": "stderr",
     "output_type": "stream",
     "text": [
      "MovieWriter.grab_frame: Grabbing frame.\n"
     ]
    },
    {
     "name": "stdout",
     "output_type": "stream",
     "text": [
      "."
     ]
    },
    {
     "name": "stderr",
     "output_type": "stream",
     "text": [
      "MovieWriter.grab_frame: Grabbing frame.\n"
     ]
    },
    {
     "name": "stdout",
     "output_type": "stream",
     "text": [
      "."
     ]
    },
    {
     "name": "stderr",
     "output_type": "stream",
     "text": [
      "MovieWriter.grab_frame: Grabbing frame.\n"
     ]
    },
    {
     "name": "stdout",
     "output_type": "stream",
     "text": [
      "."
     ]
    },
    {
     "name": "stderr",
     "output_type": "stream",
     "text": [
      "MovieWriter.grab_frame: Grabbing frame.\n"
     ]
    },
    {
     "name": "stdout",
     "output_type": "stream",
     "text": [
      "."
     ]
    },
    {
     "name": "stderr",
     "output_type": "stream",
     "text": [
      "MovieWriter.grab_frame: Grabbing frame.\n"
     ]
    },
    {
     "name": "stdout",
     "output_type": "stream",
     "text": [
      "."
     ]
    },
    {
     "name": "stderr",
     "output_type": "stream",
     "text": [
      "MovieWriter.grab_frame: Grabbing frame.\n"
     ]
    },
    {
     "name": "stdout",
     "output_type": "stream",
     "text": [
      "."
     ]
    },
    {
     "name": "stderr",
     "output_type": "stream",
     "text": [
      "MovieWriter.grab_frame: Grabbing frame.\n"
     ]
    },
    {
     "name": "stdout",
     "output_type": "stream",
     "text": [
      "."
     ]
    },
    {
     "name": "stderr",
     "output_type": "stream",
     "text": [
      "MovieWriter.grab_frame: Grabbing frame.\n"
     ]
    },
    {
     "name": "stdout",
     "output_type": "stream",
     "text": [
      "."
     ]
    },
    {
     "name": "stderr",
     "output_type": "stream",
     "text": [
      "MovieWriter.grab_frame: Grabbing frame.\n"
     ]
    },
    {
     "name": "stdout",
     "output_type": "stream",
     "text": [
      "."
     ]
    },
    {
     "name": "stderr",
     "output_type": "stream",
     "text": [
      "MovieWriter.grab_frame: Grabbing frame.\n"
     ]
    },
    {
     "name": "stdout",
     "output_type": "stream",
     "text": [
      "."
     ]
    },
    {
     "name": "stderr",
     "output_type": "stream",
     "text": [
      "MovieWriter.grab_frame: Grabbing frame.\n"
     ]
    },
    {
     "name": "stdout",
     "output_type": "stream",
     "text": [
      "."
     ]
    },
    {
     "name": "stderr",
     "output_type": "stream",
     "text": [
      "MovieWriter.grab_frame: Grabbing frame.\n"
     ]
    },
    {
     "name": "stdout",
     "output_type": "stream",
     "text": [
      "."
     ]
    },
    {
     "name": "stderr",
     "output_type": "stream",
     "text": [
      "MovieWriter.grab_frame: Grabbing frame.\n"
     ]
    },
    {
     "name": "stdout",
     "output_type": "stream",
     "text": [
      "."
     ]
    },
    {
     "name": "stderr",
     "output_type": "stream",
     "text": [
      "MovieWriter.grab_frame: Grabbing frame.\n"
     ]
    },
    {
     "name": "stdout",
     "output_type": "stream",
     "text": [
      "."
     ]
    },
    {
     "name": "stderr",
     "output_type": "stream",
     "text": [
      "MovieWriter.grab_frame: Grabbing frame.\n"
     ]
    },
    {
     "name": "stdout",
     "output_type": "stream",
     "text": [
      "."
     ]
    },
    {
     "name": "stderr",
     "output_type": "stream",
     "text": [
      "MovieWriter.grab_frame: Grabbing frame.\n"
     ]
    },
    {
     "name": "stdout",
     "output_type": "stream",
     "text": [
      "."
     ]
    },
    {
     "name": "stderr",
     "output_type": "stream",
     "text": [
      "MovieWriter.grab_frame: Grabbing frame.\n"
     ]
    },
    {
     "name": "stdout",
     "output_type": "stream",
     "text": [
      "."
     ]
    },
    {
     "name": "stderr",
     "output_type": "stream",
     "text": [
      "MovieWriter.grab_frame: Grabbing frame.\n"
     ]
    },
    {
     "name": "stdout",
     "output_type": "stream",
     "text": [
      "."
     ]
    },
    {
     "name": "stderr",
     "output_type": "stream",
     "text": [
      "MovieWriter.grab_frame: Grabbing frame.\n"
     ]
    },
    {
     "name": "stdout",
     "output_type": "stream",
     "text": [
      "."
     ]
    },
    {
     "name": "stderr",
     "output_type": "stream",
     "text": [
      "MovieWriter.grab_frame: Grabbing frame.\n"
     ]
    },
    {
     "name": "stdout",
     "output_type": "stream",
     "text": [
      "."
     ]
    },
    {
     "name": "stderr",
     "output_type": "stream",
     "text": [
      "MovieWriter.grab_frame: Grabbing frame.\n"
     ]
    },
    {
     "name": "stdout",
     "output_type": "stream",
     "text": [
      "."
     ]
    },
    {
     "name": "stderr",
     "output_type": "stream",
     "text": [
      "MovieWriter.grab_frame: Grabbing frame.\n"
     ]
    },
    {
     "name": "stdout",
     "output_type": "stream",
     "text": [
      "."
     ]
    },
    {
     "name": "stderr",
     "output_type": "stream",
     "text": [
      "MovieWriter.grab_frame: Grabbing frame.\n"
     ]
    },
    {
     "name": "stdout",
     "output_type": "stream",
     "text": [
      "."
     ]
    },
    {
     "name": "stderr",
     "output_type": "stream",
     "text": [
      "MovieWriter.grab_frame: Grabbing frame.\n"
     ]
    },
    {
     "name": "stdout",
     "output_type": "stream",
     "text": [
      "."
     ]
    },
    {
     "name": "stderr",
     "output_type": "stream",
     "text": [
      "MovieWriter.grab_frame: Grabbing frame.\n"
     ]
    },
    {
     "name": "stdout",
     "output_type": "stream",
     "text": [
      "."
     ]
    },
    {
     "name": "stderr",
     "output_type": "stream",
     "text": [
      "MovieWriter.grab_frame: Grabbing frame.\n"
     ]
    },
    {
     "name": "stdout",
     "output_type": "stream",
     "text": [
      "."
     ]
    },
    {
     "name": "stderr",
     "output_type": "stream",
     "text": [
      "MovieWriter.grab_frame: Grabbing frame.\n"
     ]
    },
    {
     "name": "stdout",
     "output_type": "stream",
     "text": [
      "."
     ]
    },
    {
     "name": "stderr",
     "output_type": "stream",
     "text": [
      "MovieWriter.grab_frame: Grabbing frame.\n",
      "MovieWriter -- Command stdout:\n",
      "b''\n",
      "MovieWriter -- Command stderr:\n",
      "b\"ffmpeg version N-76278-gd897d4c Copyright (c) 2000-2015 the FFmpeg developers\\r\\n  built with gcc 5.2.0 (GCC)\\r\\n  configuration: --enable-gpl --enable-version3 --disable-w32threads --enable-avisynth --enable-bzlib --enable-fontconfig --enable-frei0r --enable-gnutls --enable-iconv --enable-libass --enable-libbluray --enable-libbs2b --enable-libcaca --enable-libdcadec --enable-libfreetype --enable-libgme --enable-libgsm --enable-libilbc --enable-libmodplug --enable-libmp3lame --enable-libopencore-amrnb --enable-libopencore-amrwb --enable-libopenjpeg --enable-libopus --enable-librtmp --enable-libschroedinger --enable-libsoxr --enable-libspeex --enable-libtheora --enable-libtwolame --enable-libvidstab --enable-libvo-aacenc --enable-libvo-amrwbenc --enable-libvorbis --enable-libvpx --enable-libwavpack --enable-libwebp --enable-libx264 --enable-libx265 --enable-libxavs --enable-libxvid --enable-lzma --enable-decklink --enable-zlib\\r\\n  libavutil      55.  4.100 / 55.  4.100\\r\\n  libavcodec     57. 10.100 / 57. 10.100\\r\\n  libavformat    57. 11.100 / 57. 11.100\\r\\n  libavdevice    57.  0.100 / 57.  0.100\\r\\n  libavfilter     6. 14.100 /  6. 14.100\\r\\n  libswscale      4.  0.100 /  4.  0.100\\r\\n  libswresample   2.  0.100 /  2.  0.100\\r\\n  libpostproc    54.  0.100 / 54.  0.100\\r\\nInput #0, rawvideo, from 'pipe:':\\r\\n  Duration: N/A, start: 0.000000, bitrate: 159252 kb/s\\r\\n    Stream #0:0: Video: rawvideo (RGBA / 0x41424752), rgba, 864x576, 159252 kb/s, 10 tbr, 10 tbn, 10 tbc\\r\\n[libx264 @ 000000deea218de0] using cpu capabilities: MMX2 SSE2Fast SSSE3 SSE4.2 AVX FMA3 AVX2 LZCNT BMI2\\r\\n[libx264 @ 000000deea218de0] profile High, level 3.1\\r\\n[libx264 @ 000000deea218de0] 264 - core 148 r2638 7599210 - H.264/MPEG-4 AVC codec - Copyleft 2003-2015 - http://www.videolan.org/x264.html - options: cabac=1 ref=3 deblock=1:0:0 analyse=0x3:0x113 me=hex subme=7 psy=1 psy_rd=1.00:0.00 mixed_ref=1 me_range=16 chroma_me=1 trellis=1 8x8dct=1 cqm=0 deadzone=21,11 fast_pskip=1 chroma_qp_offset=-2 threads=6 lookahead_threads=1 sliced_threads=0 nr=0 decimate=1 interlaced=0 bluray_compat=0 constrained_intra=0 bframes=3 b_pyramid=2 b_adapt=1 b_bias=0 direct=1 weightb=1 open_gop=0 weightp=2 keyint=250 keyint_min=10 scenecut=40 intra_refresh=0 rc_lookahead=40 rc=crf mbtree=1 crf=23.0 qcomp=0.60 qpmin=0 qpmax=69 qpstep=4 ip_ratio=1.40 aq=1:1.00\\r\\nOutput #0, ipod, to 'C:\\\\Users\\\\anbro\\\\AppData\\\\Local\\\\Temp\\\\tmp6ri35tgd.m4v':\\r\\n  Metadata:\\r\\n    encoder         : Lavf57.11.100\\r\\n    Stream #0:0: Video: h264 (libx264) (avc1 / 0x31637661), yuv420p, 864x576, q=-1--1, 10 fps, 10240 tbn, 10 tbc\\r\\n    Metadata:\\r\\n      encoder         : Lavc57.10.100 libx264\\r\\nStream mapping:\\r\\n  Stream #0:0 -> #0:0 (rawvideo (native) -> h264 (libx264))\\r\\nframe=   12 fps=0.0 q=0.0 size=       0kB time=00:00:00.00 bitrate=N/A    \\rframe=   22 fps= 21 q=0.0 size=       0kB time=00:00:00.00 bitrate=N/A    \\rframe=   32 fps= 21 q=0.0 size=       0kB time=00:00:00.00 bitrate=N/A    \\rframe=   42 fps= 20 q=0.0 size=       0kB time=00:00:00.00 bitrate=N/A    \\rframe=   50 fps= 19 q=0.0 size=       0kB time=00:00:00.00 bitrate=N/A    \\rframe=   50 fps= 18 q=-1.0 Lsize=      32kB time=00:00:04.80 bitrate=  54.8kbits/s    \\r\\nvideo:31kB audio:0kB subtitle:0kB other streams:0kB global headers:0kB muxing overhead: 4.426885%\\r\\n[libx264 @ 000000deea218de0] frame I:1     Avg QP: 9.19  size:  2894\\r\\n[libx264 @ 000000deea218de0] frame P:28    Avg QP:16.90  size:   827\\r\\n[libx264 @ 000000deea218de0] frame B:21    Avg QP:17.32  size:   228\\r\\n[libx264 @ 000000deea218de0] consecutive B-frames: 20.0% 72.0%  0.0%  8.0%\\r\\n[libx264 @ 000000deea218de0] mb I  I16..4: 86.9% 10.6%  2.5%\\r\\n[libx264 @ 000000deea218de0] mb P  I16..4:  0.5%  0.3%  0.1%  P16..4:  2.8%  1.6%  0.5%  0.0%  0.0%    skip:94.1%\\r\\n[libx264 @ 000000deea218de0] mb B  I16..4:  0.1%  0.0%  0.0%  B16..8:  3.2%  1.0%  0.0%  direct: 0.0%  skip:95.7%  L0:40.4% L1:37.8% BI:21.8%\\r\\n[libx264 @ 000000deea218de0] 8x8 transform intra:16.6% inter:7.3%\\r\\n[libx264 @ 000000deea218de0] coded y,uvDC,uvAC intra: 3.9% 5.1% 4.2% inter: 0.5% 0.6% 0.5%\\r\\n[libx264 @ 000000deea218de0] i16 v,h,dc,p: 82% 15%  3%  0%\\r\\n[libx264 @ 000000deea218de0] i8 v,h,dc,ddl,ddr,vr,hd,vl,hu: 38% 12% 50%  0%  0%  0%  0%  0%  0%\\r\\n[libx264 @ 000000deea218de0] i4 v,h,dc,ddl,ddr,vr,hd,vl,hu: 25% 21% 41%  2%  1%  3%  1%  4%  1%\\r\\n[libx264 @ 000000deea218de0] i8c dc,h,v,p: 89%  5%  6%  0%\\r\\n[libx264 @ 000000deea218de0] Weighted P-Frames: Y:0.0% UV:0.0%\\r\\n[libx264 @ 000000deea218de0] ref P L0: 79.4%  0.9% 13.9%  5.8%\\r\\n[libx264 @ 000000deea218de0] ref B L0: 82.1% 17.4%  0.5%\\r\\n[libx264 @ 000000deea218de0] ref B L1: 99.4%  0.6%\\r\\n[libx264 @ 000000deea218de0] kb/s:49.32\\r\\n\"\n"
     ]
    },
    {
     "data": {
      "text/html": [
       "<video width=\"864\" height=\"576\" controls autoplay loop>\n",
       "  <source type=\"video/mp4\" src=\"data:video/mp4;base64,AAAAHGZ0eXBNNFYgAAACAGlzb21pc28yYXZjMQAAAAhmcmVlAAB7IW1kYXQAAAKuBgX//6rcRem9\n",
       "5tlIt5Ys2CDZI+7veDI2NCAtIGNvcmUgMTQ4IHIyNjM4IDc1OTkyMTAgLSBILjI2NC9NUEVHLTQg\n",
       "QVZDIGNvZGVjIC0gQ29weWxlZnQgMjAwMy0yMDE1IC0gaHR0cDovL3d3dy52aWRlb2xhbi5vcmcv\n",
       "eDI2NC5odG1sIC0gb3B0aW9uczogY2FiYWM9MSByZWY9MyBkZWJsb2NrPTE6MDowIGFuYWx5c2U9\n",
       "MHgzOjB4MTEzIG1lPWhleCBzdWJtZT03IHBzeT0xIHBzeV9yZD0xLjAwOjAuMDAgbWl4ZWRfcmVm\n",
       "PTEgbWVfcmFuZ2U9MTYgY2hyb21hX21lPTEgdHJlbGxpcz0xIDh4OGRjdD0xIGNxbT0wIGRlYWR6\n",
       "b25lPTIxLDExIGZhc3RfcHNraXA9MSBjaHJvbWFfcXBfb2Zmc2V0PS0yIHRocmVhZHM9NiBsb29r\n",
       "YWhlYWRfdGhyZWFkcz0xIHNsaWNlZF90aHJlYWRzPTAgbnI9MCBkZWNpbWF0ZT0xIGludGVybGFj\n",
       "ZWQ9MCBibHVyYXlfY29tcGF0PTAgY29uc3RyYWluZWRfaW50cmE9MCBiZnJhbWVzPTMgYl9weXJh\n",
       "bWlkPTIgYl9hZGFwdD0xIGJfYmlhcz0wIGRpcmVjdD0xIHdlaWdodGI9MSBvcGVuX2dvcD0wIHdl\n",
       "aWdodHA9MiBrZXlpbnQ9MjUwIGtleWludF9taW49MTAgc2NlbmVjdXQ9NDAgaW50cmFfcmVmcmVz\n",
       "aD0wIHJjX2xvb2thaGVhZD00MCByYz1jcmYgbWJ0cmVlPTEgY3JmPTIzLjAgcWNvbXA9MC42MCBx\n",
       "cG1pbj0wIHFwbWF4PTY5IHFwc3RlcD00IGlwX3JhdGlvPTEuNDAgYXE9MToxLjAwAIAAAAtKZYiE\n",
       "AD///vdonwKbWkN6gOSVxSXbT4H/q2dwfI/pAwAAAwAAAwAAAwAAdaFhgCmDV9FhwAAAAwAJoAFQ\n",
       "AK93P4ieGzAe4MH6OUkEWOCTV6SFaUEFs2GJ0Ny3+KaiyGswCJv6bWgynJ8NNXQYPj0OJzFho5UY\n",
       "eqxmYqwo9beNavAmBj0qTckXKxgh1kCf9EpPtG+P2cQc4mTb+cDgvVcps8bqsIUADA8JvtytSLEF\n",
       "5akCpOCaS1jcIWXynN+IR8DufL1bVn+Rc9rk2CQ0B5VN22IIHoX535MMo5TpZZFKkli9h40mhCLj\n",
       "vs7+vl3XBAvoI+KMAGcCjKI4X9K7LtnjXwA6EkspkawRIrvoQbNy1QmVuTtrTNHglG2Cv4n/i+6p\n",
       "3921BhiNPQRMVHFXMdJd6ewUJlvsSCdym1gutZ4oiAJ3+sh7vE7cTuEIqoKAABKHKX/oqBnxszWZ\n",
       "OPwvmSEWcPFW7zleTNx6K/3fS8LfxgMxAcDuyJkiyUppcvwBxeP31UWo0x2Te1pFT9J8EU84qyLG\n",
       "4KnkdMtBtqklENLdhoKcqCVhSYHABEmH4xVqdcWDeNZ+9NeLaOSa0GiGggVmp623VabJjsRCHMgH\n",
       "Tw+dz+EgxdV8RzyIDF53Di468fHbxQj2VH+wM9WnCiMC6lR8B9eL6bbeMfIBHeumRUsEMY07vBbT\n",
       "DfLqrDlgcWJtHr6PcHiQaXTU9zaR8RpOLjHr55a0A95Caj6Q0za9dUdEtS8lVJ82oQnpVYbNXlGd\n",
       "OKHOIOX71a43NAkffPt8t5BQ22l3ZGTcfeAPYAuMhSzmhM60yy9dxeceK2UAw75dezqZPB8+0XfR\n",
       "quvVWrColluxnLwcdDkCLpmmOt0SSy4xGL2fGBvz/CaHIxyJ5TlJqsT/AiULOrtQGTCTH6rPHBb2\n",
       "A23RlA46DEJL+pabFIMf2Xvr26Nt3zItzXn1KGonVli2EJmeAU580yVpSJrPu46otwLdHMwSvAH+\n",
       "C8REQG4zLnolKNMzuL3yOw3MXN9sqDvJhRmG0VGc8m8lmcif0AfP6hU3Jvcgy3mXxE8VtsIcx72a\n",
       "LVeOVado+sif5S/61Gn7iXBpGBbtHStwdtevnW5JKlHq1sXvbhhw1VxyXMrx8uhmu14e+/i8G+yR\n",
       "ao1aubuAvDx4ZhSUrQOg8a55IRKco5R4DkirI7S/5cWGfsdAYUKDrzE03hVT3+znSFg/C5iuDMo/\n",
       "lsy5rdUzJ4BPeV2FPwoUOiPgaYS+pCoud7lR+n9FYGKWUfIRHaKN/FHTh4h4sA8Eh6Z6Tr6cGfwg\n",
       "tkQbZtvxJ7SNAwG4U2DYeHPnul+VcwuV689yxw0LHvOnyJG8Zk1N6xoHjInGAXBKqHczZnhvhpJP\n",
       "QVsV1uCkcEP+Yl2Cl2st0gXXLkz3p6lhrTlCfIYf4T94MR9yf6W0Lo+LnDQDi4LY9Z36ykkXt2z/\n",
       "u9QjXoiqjpH+g+oudn1MzfA1cJRHH2PdGZM97kYKzuNYde9zDEwQbeAvm56lQ3P9MBi6//vCPScO\n",
       "u6vi6Ie+90bojGlrlo6C5viKI7Jj36qHYohFuvfbZus33pTRd33B9muyrN0lnclmWLetHNSQurSJ\n",
       "f5tx+60nlkhQ797849/ED8diRvA7EniuKqTQF344JCEYK8flMJClfWqVy4LDTx+upm4buzTlrkH1\n",
       "uN91W/p7/7nZax8kdF5CoL1DRDhfsyHK7Fuq4+lQwmh37obVYaJpnVOTNp2pmAbx8OmvwzdW1YFs\n",
       "DQR/ZDfk2uyz8eaX+k3Fg6AGiy3tDMURtdgIVm2977mTtAj/+0kLIQ7aC7C2430TEAjnUM92doFG\n",
       "EMi7IWdSrfqqma/elddHHIqd2zbnMAwM9p2aK6lnpWkpZS5mxu0KA67SccdOZHpXtALrz6xpGCYv\n",
       "w+JCuisuMzUgDKFbejnSVLG8+teYR584TyRIGdqMPnvUuJQmBf9+3pPaYRWAKAapFeIDGTNTfzj3\n",
       "KQws7ew5+8ZsNTMX2jpm+ZlTJo7EcdcoYdhtukXoqhOU+L53po2vJHjgVFyjd9o/gn3RZvOjbW9k\n",
       "xuxlomB7N8GTW7Lf+hON3DC76Um85BlEktp9bl7hCrRsP97SANhwU+aEouCfgC2kUi4QUgGqdFHe\n",
       "780V3/A5AM9PadRByVrywyc9OBUXRYHiw86/N4QAXlmOqfBsyp4hkCAaqUU+EzCN21NNDHehVAAf\n",
       "d8x/VPSOAvcH9/HAt+8AUMvJ6xpZzVhgM6ipp0RSFERQEsmZ7lXaApJ/y1EC11XjlTshd6T4I7Uu\n",
       "3JAaNl8+iR46VICIRLAWqaRt5CEVM99IsqawXsNmOP12g7xuzoQLVwV8y7E2HIUabWcRtvwLE4BT\n",
       "gt9WgXu1EJEQUATfwPSzRNBiQ0qc6koQ7ZT7qW2iWT9/IR/nk6uAT/6cxKE7Hm3/VGVdpY/NBWNb\n",
       "6hncrrc14+nQ+pw0u1hgBqd1rUD6njiMPEtwHTIBXYMafqe9oYXRIIKwcLmgYWRhlvJPMizSQuiu\n",
       "U8oii2yM5CJUXe/e9QLG4f+cculVQQroGN9fDPkxTu7ZtQX9W3iSlEgrXt/+Hc7nZX+tXS0YqWL3\n",
       "Y7LcArrmUwX8mqRQW7FTaoGuDXU1ot+/S5kZI+04tddmtkpgBRZ2FOqw8JfHzB5fic0onYwIj2g0\n",
       "YnJJnAcFx0/y5B/9H8zanjV8fYLVMtzskFp2Ts5QHzdYR4/UKeSO05narNf0CdlUL0xlcWRSt4zf\n",
       "g4uGHyEcgBpebs+GM7iZBFDxCk0RnSt6vPNd6EoeeY/o5qDZ1H7Mhl91FyPZEULGni5OjsKGIexk\n",
       "UEcuDgAJX/ggZxrvsRlTl/cPmxP3pzUZLMdKzC4AB1ZAo0tygeuUBmNgB8TfvzG+U/Bgj+4XuRyx\n",
       "7a5aywBrjR96qnYStbCbRxncJlJubZJKDRCm0SqkhEZaoblbeb/Jsta9PhTgDiJsVVn+62vO0QeG\n",
       "ggjIGB/hZOoDWeU4h8hNfHD27uNz3z6s8vAL5YBViIMZu1JvPt1okhbo0pp2XoG78Ipz/79BLIKl\n",
       "GRZY853rVchY20HI49DzRQWVs5H30ceRfXYJysNHx345Zal4K1W7nj+lbzPlmnjMBSwjauB6byJ+\n",
       "AFiZljItdqXZxutmXsH/0kr6tH9xRL+9W+mz0cJu36M9I0gGY1kBx9jMNSlsfZ1HLAPDUYhgcVb2\n",
       "zKGIChG618lJPQRZijSgWYlCjYQSUMTduP1WJ1pE4ULdPx1Ep6elJz6bHU2DMAqT4XX8Hp8L3ptj\n",
       "S37X/h6thO6Jxp91u8ynlBFDlvwKoznz8e7XdUiNrl+gcvxcYS0mzu+SwPHTLl9IVAPHftunRPky\n",
       "1i0KJNH1wluzpUSnys+Pa1zEFaHe8XVZK+i+1y6F6Cb9KCxStiflvMPyMP+0dbBg7YPmy/rxH1QG\n",
       "eWv896BpJjIHAuMj8fbeDcNGcLrcXzNaXfuk6BJY5gHdFgGBx/VV5X2iGZP5fhl4pwjWkgil4s8T\n",
       "/GsnpzBTQJ5RuEUisw7oMGcfHx8k6RVaPMXVedcmujjRNDfKIUP9f3cKtqxgMPEofI3KCCw3H+pr\n",
       "KO6sWdO7WCtnHrpUIg8azD/ilBLaT6t80V8OxsYeJ3Vjf3rrvpj5eeMVNRR8NeuWDbwbiWOTfrHS\n",
       "Pmq8V6vdlPNJN9afXrsKa3AMFRge3E+cLt9lGIxATMqJ/ijuUzmK57SMJaK/tB6D40ZX8gP4coSV\n",
       "HKqQimnhnELkncHG5EFJK2seGfxPyJ3r8EXkJIm4Q1PNJlC7HdZAF7uZ8kPs9CD0geJ2CEGocfCj\n",
       "5iqtcqBhFNyDKpTznynttus4IzpygAAAAwATMAAAAwAAAwDNgQAACBNBmiFsQ//+qZYAAz2NZgM3\n",
       "1VDUKqXIdlOVE/+b9h8u3m2x+i0WtP1bZrugItEQM6F9BakJebHnOdU4Kwq3BOui8FZfWpuUwtEm\n",
       "slKYlCVi2TExbxZnUo5tYLt/qtpltqtjR/7oK5UOiAe3z2W2d5bpmM8Y+O+942/Pzy344J0NpBY4\n",
       "pWgiatlDrQ9F8mJ8xg0E4U+Z/m5gm5qiBsQDkqJXQOTRM8IVDth/HK+V2JT29HRPE9VLNFif4h1N\n",
       "faRfysKyS0eTtyovDfT8exuVE+iMMhtviBFSGbYdmwn1CLlNAnDZ1/G9kYef4wCUwAx5epozdCee\n",
       "G4uCK6+m0zvIAFkQQUDfGHlM5qzfiLy246TkRu1AT8cRqkFntpIzxGd3TRON49ZvACnPibZsnh0q\n",
       "JmssiBF2JIyaayZwwVp6hWvnnekkWEME4oQrNzb/XMjXpUxe+yMu62oxbYaZVqD9JszJTVjpo5hr\n",
       "WIW9gcKHu057hkr7FLt9b3zzol4S+ZaiEvTLe5bgWvjAl6CJEbAbBsvJMEtTlp0oM15buOJ1GAx4\n",
       "JP/9MZ2aBGrJiyWZ3BKuhrw06hvxmCslMXSNlKoO+NBa/9OEUy99Y/kcRpb6JU18J4aHIWX1w9hw\n",
       "4Miwr5ptFdZfGOOgmL8JPFETTmAM5F18BA04/3/Tr3UmfqflUZrLky82U1XrCaOhmrkxbjttHaCn\n",
       "fUbwkKrNrnnqmaZlWwWIkWMaB1441giDYXmFIlopl+y4A/b/AR5dFEFWE2BYvcLueSQfpyEm3rpr\n",
       "rgr273Bu7fde3A9jaToczIYgHVzjfqm8yMXDLIw0sj80++o/FQu0aW0xNAmQ2wbOQ9qR1SeKJx6Z\n",
       "gD/up5w+ITd10gM0SF3Io9WVIZNJOtxsZaGb7SYD/7MshO7kmh+5G5t6MPgJ89E+mY+8/uvU69Bt\n",
       "gCNPblhMW5f+u1xodCOi2QjCY+WtH5IVzRMHSD+WSnGy6PG7t1ILPY+zlzfGmsEWcKxjIUfMVNoe\n",
       "xDlC9PFUT2iHv/oyl0eMSYM1dwwPW4ds07a/O9UNXIGR4A5XFFEFrQMc3YOhwkJ8bEe02iNVA6PR\n",
       "wyP+rt/yMN6bMPjvdF2wsoWlLBF7srLuKb0CEG07ykuP1/UAtR8XElfog+KAKfEr21bWfBMJ0jlU\n",
       "0rqIJl8EQThYS0tc7EwYEiZ0QoD+mPCliGA6P3gHDwrAjoPkk/LkenSaGEpHlUaxNFfdqZfh9Tuq\n",
       "zh4TiWczsWnTKb8ew2IK5tXe6+t7uDv6bxTCTipLEAieXnF4DWsi1M/u6aW5liXPxZP/fC44xULg\n",
       "JOF9sbuKZ7Bg04Jp6q1ao4NEr5qJN0hQbRtvpFj8OpGvV61oFUqomeB2qy/CTNDAHUermDBseUG2\n",
       "uPM3bz567+Yh3wfVuqgSndUWWOpo1iTgbMA3V7syatJyNltgtP4dP3tj4FHkHZYLlk35KYyCUbXw\n",
       "oMcKI+yp0WO+c1lPAo4mzzNqbCC/DtWoeXVXkNU8xBaoNT64cQ/QgkWty3FXvk4xAy3D05HTnGLH\n",
       "5PhaHdVWtkNN7lPVDdPgcrYXaU7ATJLAXUMA9SnBogmrLAeFLTbmJBqoZn5Z9S7tkW1MXHsP2Z/x\n",
       "BACoNmgtA1uX0BLDpfhOChnF4ZCmdcn+1pM0D9RBopLSSL5FhXiv08fY7y9rct/RjsTvp+uTiE7C\n",
       "Jh1+AastnXPS/h15Lj0AqEY/qUvR72aNnM4TANbbcqaZ0/zz5tvqQHM9/q+eVcUlh/9kSEVMn4nU\n",
       "AcX648znraANaVNWPWnrxnV5dXCYrRWsRKale2ABreg2a9p88k8vwSWqEMUxNaUpqAl/9SiiI/fO\n",
       "mmjRGxMx58GkcAnavSS4Ye0B4q0yoeEBfwKNAVLtUp53LVZsX2ypwl1xsDGTQPqPvr0U4iyMLdQx\n",
       "LBQjztdL+7kRxdIAQEuyXVUqzfyvI6WJPe86rI6W/mv2CESr8enerCtP7CL/i6baLTjltvO5rJgK\n",
       "wJ48NQRDlPOaZoT/jz+5ZRYzySqmZwOKCQsVMB+/Ttlt1LB9mjzKiaHbVCr9TGNiwq5hYYPjR17r\n",
       "SNlMbZfOmkQKtLz4oebDzpeThifucFpyy+O7xz+Fw3gPKpCh+XwCn741u77GIDnKvUbj5Y5SSib6\n",
       "MxvBJ3U1njvpviFhE53mMgnK5/pYQ6uEgo/MWfpsbrWrhpWwb3B0R6yrb3nUNrQ23Kh1bilNV8jV\n",
       "HiQOnd8XmgFFcDs1hybdkYTuFKyjz+k+yQ971xrcaLQ3TcRHBci6/unNqFOgh9idcP58/P3OntZU\n",
       "ql8807LEZ2HhWbBwWtbgsZQemYV2vuFmySj47dKSAFRRzTahvSeTldR7cQilVpH6k+ceS107DA4S\n",
       "mb+gCK8NgcpnFVnR2+BiX1nWHQz3AURYOb5eudnk4QNSESweO78hkmlTg/NVyYKksNxdduUkjXcA\n",
       "IBiLdgsHsdTAR6ZfcdGZwMHtAffa/lNCOQ6OoAkgifdxyt9k9kmB5aTXuz7Ybl1F/Wd8VuCmA4/N\n",
       "jj3LqwJ+vP4VeXPfpmVTmHzomIDWOERI86eAvjEsCArDA9FmgThAXynft07D4PNXB8gpphgxOiCi\n",
       "owCkZrYMaV4955DbVieq/iiae3DjwDq7XeXBxOwEFbXsa2E1AggRT2ZRNcGFfh5kASRhX+/o7J6e\n",
       "vMlZFWjbUTeD+cl+/Twd8Yu5ckoYzzMHjND3B2XfI7VUTunT4BU//TM/p2kG8rhWwI+mO6oAC2gA\n",
       "AAV6QZpCPCGTKYQ///6plgAAfX3RR36XvV9F50JoAN2/9e3o7CetciAeO0qFdi1WjgbaZa5WNSX2\n",
       "yoV2R5eH2wdqVv0vnfWgVX+1wIwKSuucXQS91I+zFdWYHBrlISpf56QWl+8Yrk6CV5nPdYrl/PWu\n",
       "fDB7BhxEe35RKgovuh45v8WVb/tzZY76Ukj3y+21vQzSjJH4q1hVdVeipI4J48qRQmhcreHDOkO7\n",
       "YalVJgk/Xl/M+HdYaLFfERYD9Yehupj5wlvLzhg3BLdYc6QJSkE+M+ekArK/ho5Lp6f+dnZYfzFu\n",
       "50NI0inh6aTZApte+E09Rd624U1GAQkl4xqC9xnOoU++9afFf4tkxnKk4QOg9DGcuJKiQ4SwrG3q\n",
       "sV/t5klJ6a+9iNDtiq86OzgXz6bngbi+Oe1DTtd3AXvqx+KMwXlsDxLvyjjtHJwMDlNdbZ+AhI/y\n",
       "4O9b/hAOao6r6L9B3hQ+G0VgiWhwzgmDZaJMbPW23GHrb76QiBUjP9EaZ7b03RHvdVW1QoOcfiHE\n",
       "FTTK2IjGFm5JOPotSFeObOXguKDkaNCN1+zW1HYou3XmaI9GL2JkN49Y5OwXYTZ8PXRIp+MR0HeG\n",
       "+aIoZxASJ6LpS1vgFEfqQr7Tx1cgF2wMAE+r4Hg6kFb0SVo8r4pfx9LsmIbCto7rwYi3kd4Tcu/F\n",
       "2VBk5IKiEvhUMnpfOf+UGFQR2v2/npCILinQtHo23CiTGLnrgv/8pqq2jukepCNqiyR0ebC7ZPI9\n",
       "WeUeEs+3nPeZAslwQnMS4hlz6rWk94Nm4m2ZN5D+1Y8+ynBH70AmDEtKt+cVge8/V7WHoiujfry4\n",
       "FNU/MSHGNK7EiLSJobkI/lOiEl6vZ2U08onWomdan2KQ89FHVWRhWrDGexglRHcOXlLph101AriE\n",
       "D/ZSVdZ4RSYnR7tZckWv7OMgV1RPXzlPjqIFmUelGtC3i1xeOZGVbH58eJqSMewpqXakjjR44oOv\n",
       "kcYZBNyY01uszWmwohrNl1HZvZntTap2bVmILV48lipdDE9dhYmzeRMVE1idxmqJ0e+1fofQ1SW8\n",
       "GR+DccDTDxHH1Hyyw8XAuy7KeWsJN+LZhTbu/he40QT/pgJD1ReOIZTQXIUw2ujcgKSuHerqt+A/\n",
       "H5e/RED1qKNzWrGTW2CJjah2r8TN3jwiaSWpuMG5W/JNCx5FhQaHU872PJ81auZsTE4TO+OGS3PB\n",
       "OvyfAfiAVREzrwsJVCn7+TFFYkGXTymDJZrJxtDMmbRXe/y1LLMzphF6dO6UsOY9v1mufR5+KpYG\n",
       "4HW1lnkkwgxTK6f0OT+8GUGY6HQShAOcJDYDSeZ9QHyKrzpC5o1h3ULmRLGXYWcWQe9P6brzbqpf\n",
       "fWC9349W7Eac9BQPAnESMSiEjPs/pFGceKJi1FH7kaFpD4l16WcADhoRww0kfcTmF88ZhCNVZ07M\n",
       "5fU6ME91qSh1RZ3/8QWSKt36vDh1Qjx/Gc8gv/jp5jIep7RMJgAEiY1+44XZ9BKvMTJncCSu2m1p\n",
       "Q+Kb9CRM1qQKcy56REZwXKMFqAdudvYA26VJF2SqQ+b5OxZoxXeVxcZrs2OJ+wW9/2sywvQqhk0Y\n",
       "9udmbRfUBb18FKc2GClvg80MfbEYhGwHqG/S2XEFKSzLS6NRmzrNcQesnrhhyL7DlTn3xt94g8nW\n",
       "/xRoCKQf0WaSzVY1QO6sSMAYFWMWWGylPIpaYwxPWDxfghvUXFwsFC7Sw4JinvNXbLTSn+8s7uT7\n",
       "vCs2eYaX/ruBZl270A7Vq/M2od95qXkTqx6dHviOVNs+/vlYSPmtCaIQfIGg2H/rEm1AONI4rDbZ\n",
       "23H+YNi1aaj3Aapl75ISLocQu02omzSewBK1zIMJOX3Wh5/WxQAABBxBmmNJ4Q8mUwIf//6plgAA\n",
       "erZ/8E/gFLdledmaNsQddSQmxGPyFLFkr/sFKgbtnHoqyK/vtIQ+8QDCACv+1Ec0oBnXx8Edjcgs\n",
       "1BCvuWzmpfAr9CtjhcdTDb0nAtMCmSYLNTMiw8Cwc/zuL6MOKvbFj8j9rx2LapuNX4zeSqD9mtcB\n",
       "lBMrM242Jw+dLruVAZip1jcBwrdRCv7Aqe/NJYFPenD13hTfP94atbiGDaYb0DHpoTU3hf2bYUVv\n",
       "1OE2fYlDdAbWGRTgclkxAm7Cjiy1zvfFPrWS/bHbHyB110JAnoROC03aDMKSHW8sPF9GgKFCAS48\n",
       "y4rbWqRVZD1w6Ein7p9H5r4WvwzoKmICQo2LKyKXd0EfwstLqJ8dVnkZ8V7m4M1E4E+UvZxAfmjl\n",
       "oeE9sUHZo1JvBLmAvvWJZNI1DqfJMQB4slPIw1QmHeMcCEC06dRQa2XygZ36urR2TMriUZpR7O0Q\n",
       "ubp1LJemlzE7hJDIedaM/la8loUgMmPve6CzVWZ8MljY1EQ4mt5HznQr653x3CCY+7DSWvW+VNsJ\n",
       "LMeaMmliwdT8HKfyRKy7ZoWJjW5jVfLnhwkhjT3TVQc+d88JvQqduuc6UuDcJz6WegyeDiXE20jX\n",
       "W9hgQB+cnOQ7VjmobNksu+QQzWJIEhlTbu49f3cIUXxYsGWPbtl21bZEw2kSwAeYgRk++SWVmrWl\n",
       "fktOhpCOv/9+Yv4d2f1lQA2SOVl07kRsBVmoX2LEYFaNGy8Nb7A5WXEhCt8CcNH9VaNZJn/LfwNJ\n",
       "+0YXGT9FK61Y+Aif4OGvUVm2fytDtEc3KCZcAVZM8vK+vlvmSELBIIc0mOLiOsDOBZ7ROC1l0W7t\n",
       "eG0JLJ5x+cN5r+QaY04rWPkDnugbRs3E5nLjX60qqgjNvptK38vRE/ni/+74yY0Umr8Yhg1xgo6q\n",
       "s+luZs2uRtB8YezkuKJRIwT0IxQLXu8DGzO6JSGSzm9rMPR2WT1cTNxCR9+I0NVW1P0XaldXx660\n",
       "ZDDc0Zgip3Q6xwrWpgbGz/2WZ7gQvgWezwZ68r8Nh5QxXFHMYBxXqFMcM7FyQGOPoodo99Tbl9mR\n",
       "Cz4xdSQKZXkry/D32ammI68CJkrRynHKXfSme16SfIwsDQ7KTbLinna30/4maV+Mkrm99uI0aFR+\n",
       "X6ToM5RFIaH9syNYFHQRwNF/ZEfvwKHZWFs+iSXTe/P8NpZSV2vD9leRH9MKPngxYbslJeqIsrZh\n",
       "Ohdbe0hZbvo5lkDnSDMrM+k7pyor8Wthr2ydn3dLQcQ6QmM2rB7KZiJ3rKK87TOZL39AABbQuSHB\n",
       "AkHsFun6qABecgNp4MgP5VRJsTvwYd49QWvSYxPhrnRK8UWqX6suFv+R6I3Kjcxb7hbrFimUgmO/\n",
       "cOJjhcEXktry/wAAA6dBmoRJ4Q8mUwIf//6plgAAeri/eHnqDG8gJnABYfjqgJAKu1KAMPFM7b21\n",
       "4pGOwnL14NZ/vFyPoX0iGgK7kk3aH/gdbwJmC6CRdMYJuM3EInYT3GCPAOneEKSvKpidmhFw0X3M\n",
       "oXhQDJRRElUKFLHSU79YfGL2e3HPuAFYJ8+KkzCFavtVm1Sfv1mi2L1ufBOU2IFZSgc2oEGfD+nr\n",
       "kuxMTMsqyAePJKl23oeBi3NAZlJH9EASToVtou3Ib/YrvwNc5n3tSbPS0revqNBDTkosuyqx8Xkn\n",
       "A64ZF33O6M2IJWANfMd+k4U4kIocdRHnTGln9khsyQWStm1rmTWkQuY9Qf9juIBqF9AOb//NjSyF\n",
       "WTfiClD/t0cWwfr4yBgzKw+Ra22TTreffIJAhFTde1DSNyXK0Sg01wE/mz7SpymMynYsc443PHb1\n",
       "j/E0eZi8gSKceWnZ6IGg18mAf3Rsr/8NYjdLF/VEd73QkTs6r0Wlg/TwY8IyRMn1SF3QH27WKpm5\n",
       "iwp/NgR7RZOulrIKVjfKBNlCMnCpaZbYHh+YYbw3atjwNjBdZ8u/jZb+BM+KN2TvN/NHdgsmRg7g\n",
       "aMKucscMOuKFyL7d7jtsfg+AAeYrAweSWVDNAC6thqXyiKtPIaLuYT9TktbXIIl5vUGQmUOmB+5B\n",
       "VToJqmCxrbu2VychXVMWkJ2stUWbK+kT+DLGCdUFjlBry92MjN3L54Bq4j3uQCfl7vvEBgeyalkE\n",
       "OelWY0rxkknNqPdzkcLxAG7S8QNE23Yl83X/wiJttv3BoMxAQ0bSXETzLpJJzXYLc+CopYX/arom\n",
       "ySp9qVd0RIqvHYtJjVye4whlBfJhOXgUfD3oa6oY3/zdk9nPTxt7OyfOZdkM1m8ca0tbBE0i7TER\n",
       "N4ZsmifsofmPlLTh+KTdFH6xXRg31YYy/UivgblH0wFyyq3pkO3NKJpK8f4DZZQMFBuNUTtYmehz\n",
       "pelqrmbNeT1MyEWadE6X2Lj3NH3IN6ORFg7D2787nUzqPxQOR1Xm2wCwg61MZ9TJoXqqEMIvckIa\n",
       "r0apwPIG7AI7owVSoU9r68FYmDiPizxXX93ibMTFgG+p3E64mE3Xt6C0f8kOdaQ6u4hjH75cREOi\n",
       "/Myl/W1cnQlQn6k6xitnkARkLTFBw1X/5euhtfkL3UZGbpadEmvpVdDK2bAjdCRkL/nof8/s2nQu\n",
       "QGyGIGgxRbqUL5B/wRsILcghmFhUR8Shqw3QsrVG5fVb6KOVCQAAA1JBmqVJ4Q8mUwIf//6plgAA\n",
       "d/3WgbLhHWk6vQku33tZ/dQMbgRVtTnJONePGkTnJ438Krn3k+lEJDJTvLvj4jT7Zo+YXeDlRepC\n",
       "yIA287TK/14YfzVLhJREKbkUyPxxJ/obGH6stxDkYQO0WJ/sG+/iACAPtNjeU54ndQyR7IeRHUj8\n",
       "oklQ/6VSGdSwyaxGG1j7V7S+AVwj50zkF3gQIDeBtpRqCc8Kd166xqPXSe275XA4cVbfGgOgJAq/\n",
       "5ptlsibb1k9PoognnLvq3qwPt4NE26tehJQ8fuIpMz1JWvkdQmxsSOWeFcEfyVo1lm+fNfE2LqJb\n",
       "Yei+bnvfP6chwrH+W9bovCFzm/WSSN7AJ/zZWeruTo2A7Be2WwUvYm8+y1mbqlFrM5UVvU5QCy3P\n",
       "Lm7NNsYWDKp7sK95FJkXUpKhBvmAGV31zfC98NXzGPvKAgij0DXYl8IzMo6ufMKg1AIctgyeJkht\n",
       "jtu5uW2mMZpKVaA0TrYjwi5rTuAv94NPr/gdMGcpri5C7x2neNfEMguxTACBugbU2ZhFDQjaIbqf\n",
       "MwKY/a+01LdTW8lkg1/IQFozToLTdO7WIMTkuMoMJLmoY90WlgXv1MLs1w/lpoakI2NKdDfyAALt\n",
       "T7XLSZeq/9uhggbUj9falKS0IXCDQE045h6B9UIdmtHOXe9Nb4GR3FFqzrrA9F5vyqy+DeHeHJVO\n",
       "vvssr0UO/5P12gjq9xUbKGiKKxdYmzLX/2Khemms1cJ1PBd0lHXaSOYCuX4YhILXHdI4yuJUPjl6\n",
       "EvUva5Apj3HUozApwfOxjmTSaZA2jPgeRRquYnnapJZnUCWqHjv78v73qcZ89eS83jgMkcMQu8gK\n",
       "qA1iyY7Bu8yOfv7vCs6VwBB2xnSDJKPY9EDH5KR4D4t2lLOGMndG4S2ydNHoEUaHY6hG8ogH81xx\n",
       "C0w2fgQDsev5jAImZxyHz7wCB+dwSt1ACHp1nCjwOo/CdCV5/cZHu8ijmVkleDfzNBNL6qQXoBn3\n",
       "cIbhzfz2eME1H2OYBZhJaEUg++T5RHIwhCDlZPEemixDp45vdsFmKW9NNL9jLwLnaDVbOXNH/3gp\n",
       "odgapkX17cQQeag2C2tFYJm2sctrp0djPkyOu78wyoir7mhhAAACakGaxknhDyZTAgh//qpVAAAH\n",
       "197TN74gHBeA2Q5YpKSNSksd12G1xoyMy94zSWZ/dQ1aH+PDhuxQiFiWTCwrGoA/B2afH1dB8Ali\n",
       "N68wxVzjuoe+ma4FWMe//THkypM3U4g11AMcsQ7TL6DYJ3PxLI9jIe2AQcEzIpP3szQEexbsHfM/\n",
       "gkKzJubD3EdSVmCnpp2TLHwOU4JuboZwspw+CuS6UeoEsv2g2BKTOs6WdXufZ0IvTOwthP72NaU6\n",
       "fpnK8c4NJ1FJVKtCAm+yUMl5thT4MM5YSQRg/LGSEOiQVksozGazeXjH/eVELZy0hpMyq7qsWkxW\n",
       "MQ4lQP32NGfUe/0wL/NcHk4U4tvvJodwR/77KPHFtHLPbRZKZUAVmwTQXJP+82YdedIDS3xytfi8\n",
       "4Gtkgmp+CWUO5+TVfIcUpTv34WHw2h5aIFGKls+sODk3OlS1xfaPcquokFSfVeG6W7akQt39m1+k\n",
       "AjzfJAMGRfGMeQG2+50Y9+1H83cButaD3fGIPCtnZSrPU0imeEc5RBGIxwH2Tn+QNdeNolGGSu1L\n",
       "jtSjXD+p8EjkjtqZre1r+jsy058aH/oZ5DaHzP7zLYULbDKt9emlOmK38IZUvFDr4vvOxSKExJIy\n",
       "O2wcuhWi4dmhIR9srQh9z9ekCYVAp6j0qDCvWGzBdpYVXv8MACytMkqkhTxncfJIqzVIJ2ISQdbP\n",
       "QWyviICJojSN7N0Ebg1DZUI1slYkbEMH2LUH0AHA1i744lSxYBxdXXr7oPZCuVIcXhYTrYSzwPLV\n",
       "kJSAa6qxLP5Q8S+J2bxwAZNRD5OXe/c/04aW3EnTmQAAAjJBmudJ4Q8mUwIIf/6qVQAAB6ve0UQQ\n",
       "wVpRFt0AJBkCMhBWgzwYWreSLiNKkRdhg7no/oQp6GT5p8VRxHQQKEvbzqNuvWol0IF3SxK7U/mk\n",
       "Krw+grmG0FbOjjll2YB+UfDXChRbEeN7Jd7naCkI0ppMCYmG8UTMpn/0oAOZoopMURtKlPnf4pEN\n",
       "OcB9Y7uwfJ39hq/RgIkj899EncsWsbgWNkAGDIpyYZ3s+Ipq1N+XA7qNp4SB9FTojUXxs1Wjj19O\n",
       "BWiSWhPRSlziVMBRojl+TfBIlOlx9zFT0dmJ/ilSTEolulra9eY4lFTeqGgwJQNVKcT70GzcXAAO\n",
       "Q54YeD2dp+wK9CT1RMlb57ogJJFv6C8N/+uSosZC7QBXgm7Tj+G7eKPgv0jui3ySvTX+PBY4dV40\n",
       "B+2PHuz0pZq/v8DIzlj9cQlXswcWgpRd4JI9NqUmM1W3NG69LlRoLvTt8/gIyoAY5BSlWXw9A+Yc\n",
       "aRX0bvToVHrViuGXFdBcLIC/AkQOv/WukjK/GNvK/OOTLzkr3QXfAQ9Uz92Ewk9UK5ySigCuMKB9\n",
       "EW+gWM3jQhV8jd8lQErN3AGH2q2jR2Zoeyaxjq5vQT+dBIypL+WrRdJc97mCMn9Sy5AukBYlY25e\n",
       "07BCAp0hWW9DNKp9p2GfQdXwYLN4ibzaZGsZcjcO/n65HO+8cuzsG7QUlIWKB7W/FX6zZnlt+nwO\n",
       "73xmYMlWqAbBy8ck/u74QS6FluzNOa1apAlBAAACIkGbCEnhDyZTAgj//rUqgAAA+vx7UvbnfUAH\n",
       "8q3mYvvDiu13gTzpLhv3CWRHwyhVlxBHT9DXmNB9BYgmUbkwPNkDOjP/+DbenQwEGwIoOvTGdPZ6\n",
       "QGzMXqI9PTskiuIJcL8EosOm3Yw1rq9wQ1TEpiWPVyQvZPS01fGwAdCWA1az/J8m90LeaRZDGp56\n",
       "bq8MvxYeo6U6VgbJvLZL5LIQSlitpVpOa4IP5Qa0mhBW918QvNriMZ1+HKuoqTg9mbo3luFad2n/\n",
       "kuV5aVdDfAKQpMWbenx+Q+H9saNfiHENytN3O/ToET6z8jUj0HdgXuIQKSHrbrF+x+6B/OrXjIvF\n",
       "MJ9OrkIb3tcDBxUnqlZo5shDukYtivGIJzXV0J+Q8PT8a0aO4kmeXmC2KHKcu3mnedZKlWHLfSeh\n",
       "jnCGyZ+rAnlCmRcK8uj1ku4h02gMOX507WC9x9oqdPd4MUkf4wyXUpeezobh92IbKzWrqrhXeOIC\n",
       "NT2/FuQ95JP8dAdcKJxWw3Fri5fxH6PusJXb+YpjzhIA9uF5smt/IiVF8xAnh3kTZiWILazeisKd\n",
       "7XWo/BygKd99GorMUF8QzuB2IdPJzxd4NP5KgeW1RY4/LRO0EhrUn+BZgPqRBBhuVLlesCzm1bWe\n",
       "LZygPluHqRLUV+rddRPQkFfXYS/SBg/IHe05FZN5s1skZ7Y3w3LYjhd53120YZsUk5N7SIyYCcbf\n",
       "RrvjP/yjgAAABR9BmyxJ4Q8mUwIIf/6qVQAAAwHq96lZLpNshaLgxALSjQOR5v4gA7QbGgeM+oyA\n",
       "Tp0vS0zgcsKsbHB7fel+/9olgXK0T22k7vhSUiukoBs4vXnPiregluPrt7zvFdTw+u73gOK2/25m\n",
       "+JuJsAYhP4AK7Nkg6o8NdAvnQ7O8y9xxaq0hW4d9Q7ORnYpNN9RUjSqELbE3c1ORpCOJuaVPJ7Q+\n",
       "ioNcn81+1NxFTIqHrwZogJemkx5IbFLcMehd7vcaq/2LfvLABlOsHDgRmekmGtlc5y0psWKiHLoC\n",
       "PNvcJKYaeJZRDfAxnR5LQ/6dgdNJgdQ/RYZwll9YksCWbeAjmhIGoEcjBh49FG4nhRna3TpcepFU\n",
       "3BCd8MzHAunp2M81pLBS/E8Z1cIwU4hmZJe6kBFGZEx3TpQoDO/tw/TLtS3TGN9UarBjJkFzLRSG\n",
       "/hTasfnLHPzPXnOCLLNzxdTvEt8TYjIQGY93SZV5PlbXEVvrgQtmGEfS7vWF+IrEGGZaHARf3JaQ\n",
       "YkzHWk8NAo/6QdCkBt5kEUXWtN6Oe1GaQnX3TovjMGAtDK87E5lNBTYPLfrh2PQMITNGaM0Ewl0s\n",
       "oqUeXOsvT9l0AHD6gFa20pMSd2AGZ1bnnDPNfKrxX/G7/mWlzASK3UoYImDve9hFCd41lrnPCzrE\n",
       "yV5mDGRZI9ID5oHP9GJ423Ij/hmZiioWqLC2OQSrRHKRwoYlWkia17sgDzqL/oA7PprCaD2kq/uI\n",
       "9pGw5qK2SOg9BRN54uBOEmuNewevlcLBQkPm2RiaoOrqI+dz9Qc/NpcNYD7B9ir4QGWTykquHsN8\n",
       "byULm4y7e7nwmqM+M1CmWKF8rXS20xDtOaztYp41glXyB1gdnHEHDJPgZQKKmTQ/xzc+n0iJydTB\n",
       "QuXukDLw5Ss5GLYZh1mdU3u/OvP0Z6w4si3pj+5KBtq0bg7Rwm10dmab2cJv5FcKnczGH5xvVYsy\n",
       "x9v22WOftmLL7490FnLWZrRrUXogYLvY6nerHd+wWEMeDo0W7ZpU0fJ4RWOOiRo2/0Bc3G9LuQGY\n",
       "44VL/t4q6fr7EDyP3yuDXqCsO9qxmfELty6AN5F75/fnBtvTIcvFTxVjL+teBB9ZRGHd4c/PzI5Y\n",
       "7a69PC8UV2XHC9gZ1vBqJ1Zsr9InUJs6TipXaqWgsJMhiUYm6dchflUP+HrSUcyPaYbg0bTyp9PN\n",
       "09s06yR/vjIXRy3ORC2aBat8voXK5qFbATytulr1HwmecHZuchYaKkG8eEu4u5rs6h52bPk8ddeB\n",
       "5kRdOym+q3QeLwLN6N4RojxNz2jesw8UlxmbNwxNnvto2f6k0TBP7j1Mxq6xUlKqaratL/doC2gy\n",
       "nd4vhrTU3U91gbePE74r4zhmY5KJVfn6PddM/InItyvtWHQS1BU+xkucDjLwUCPb7gvdTw6z6gqz\n",
       "nx5csuNyhulrNekwEwtRJEwP2HMCbAwKtVjpjDhBaqPQBCRJkb8xc2BOPoWhbJcKH+qKpe2oh9F9\n",
       "1xqf6MPk5ooNE5h35ykfgrjoS6P4gws+6K4kd3l8CSEa41cNppF2oasnvSl2Ciz8hfY1NYAavCAu\n",
       "34p686JTMVB4YC33pybJRtBixGdZ1DiLQAaE+lybiVQGCFIAqEkLcS7UWI8VQMhncxMo8Xnpug1D\n",
       "prWNVuYsJKY5xw8R3SG/uSV2BnqKSSz32oSqrZK3oV2SGppECoayZv1SpW4qZcW2y3lTT223vIhe\n",
       "Pl1L98vAFz4I94AAAAGaQZ9KRRE8O/8AADcbXeCq9XxVotCI7WgoO5U+8AJZ6VEj79lX+Atf8QVn\n",
       "hakHq4hBl1ohpFDzznKP3LVamk74QqP0CL+Kf+PfOuFxzxMPkv6N2KfMbeiONW0+kqPmyxQ0KHEI\n",
       "Wp0iOfnAyumL1qpZyp5otYNsV3JOXLWTkJXw7+HDEaVuH2GFDerVmJVGM4cVb7FC583BA4VA52Ny\n",
       "X7d/29rNbJ3E34odwWyGx8NhX4IV1dgJWTUMFxH776s5VLmjk006J6mBEE1Ymjmqca63MgGFc1QC\n",
       "qNHUe/A/kk7tUY0kuEvyuTat/RnVRGXaflTCgXzOwFtTmyRNMtIOg/ik26X0FjE9a0SJ6mMQI/o1\n",
       "37cJbOnlgjfBzJGTcjOLDuAXntjTafQKTGhBf50/Y74Jknvuqyu09VK7BgitKQH6pNYTYLuXbEUZ\n",
       "iKHm3DrQu+EoWUgu07jLCBgZCTaR1eAG4Jk7+fsT7cdCeI+JZSyTXtmxfM+2aK8dQdbYKob14uAo\n",
       "OI75z6lleTkKZdpBILJbW6/kgYMJT5xDqakAAAD9AZ9pdEN/AABPjvcLWYH1ovP8xZpfEuCS4e+R\n",
       "hAd4AK3wkHoPAWEAK0/dbPvAMePx5NonrTKtUs26qomCrSK4SwCVQqKPuawzasnpULy+zujGRx/o\n",
       "yocexq00CBHzPM6B+881mqcGBz2Z3db4fR786cxBRIZKfgdEgo2AJhcKwWi+VPQtvSOimLMHHXn6\n",
       "SOVO90D3LHzYzGssYMxgf3ZTb4MIIenLR4YoN+WTv80C9Nhs1RBjp0hJni5zpGNRizwSenUewNGw\n",
       "ju4WrmkNDgEguILhe//ar3btnCNtqAv5maPlgO+az7PNRtk24Hr90WCAhe9wdvZcz570UY6VsAAA\n",
       "AQABn2tqQ38AAE+eg0HPPXUaBQQ52O2XEnfx/u8m7IAStn+XfwSkN0/GexojZtsTw7y9Z0AwIcHn\n",
       "7srjfXHDvkkp07Mpt2PmpnYw0ALGpnThBScLUaQfxx8mu2Xc5Z82dJV4pMWVexCks5HMMUtU7xPe\n",
       "ouXPCYWZ3QbpXVDiPLQsRHi1TBu9aoBIS1t8XLiVS1Qe65TzWM7wKI9coEym1elJOiVDHbv9Irm7\n",
       "AVJ+1fbhvHqVV6oFHz6Pji6S++ovjsR0VoyH2x6BP2NSAzdmuOjLAly5rHJFtlWAiRb0o30aAca1\n",
       "DOdCzOFW2T39A9tIoAFiUMvVNnGR9NQMgSg8wCZgAAADq0GbbkmoQWiZTBTwQ//+qlUAAAMAHq96\n",
       "lZLpNOvKAPLPV1kAFtIhnjaoqn5zxia6BFpMklafoigwYZctAAay99wGw97uSRsN9IbN502RobQD\n",
       "Ck3Tw/Uwpo/Q3A3RLIrqYcO7ooh+MDTUcj2BWrLhODlnmPiPxJFCdxANGxgX6RXnUTof49u0II2m\n",
       "vRAvYB/h2V40u37o8zFWFC9CEBhbFxDZ0Wx0A8ilf5QnT6J9/65wFK3Ec8+01cx2IS15KR79VRQr\n",
       "U2UQB7SbwyooEEYJl7DlWMPZKj9yVAfiNT96puzFN72qwqnNx7U+xhALOlSXtHwwljf+ECTo1a1Z\n",
       "oFEQUwwvnADUZbHErvPL+qxdRzBHUBZKlTZOVF3VVgAenfVckSFYshZnsb9vUwOkoLO+CDh6oHsX\n",
       "tJI6HgSsMMcBKdOu2yJLlCKHaD3/FyxQ39upeSxsLuRjbgis/RHiMPIuKxW86JbgHYGNar9yY7mx\n",
       "McAE8gtB1fy/bXSxDrGMRDab1WR6in2wNgQHCpJ3BnucMtE8YJvlnTzuEHVvMf/N/8eG4tU8S/bF\n",
       "aLygpyjK6fgUP8sDSyciSPx5gsvcbKZ8rLkYZcFu/AQsLobs90agXM2jbQuOHo/ODB398IDuDJ51\n",
       "6cZh2RRZifsbukrC0qG4zswPVxhUOfPn4mtdpCqt9JI54Mbpo+WQSMZuHi8FM4X0Lex+f4o8Efh9\n",
       "UfJXSrHAavKSoDT7zLSEu9Gjco7CdnBGwNnC8jBUEkaqGZa1U5RUg///NU9e8ZXw1THdkvxsjq7l\n",
       "F7clZSL183ZOO7zHhD5g/OrhJCkuyQB2vqiR+0ZCbFsK+tfUKcVL6gXO/7THXgJxZa7HwW6SPigU\n",
       "VBpF6o5aGbmi9s1fhpa2pgDrsbJKkt63WlVgGutktY56XZt5POzavsSHsl7uluKLUawJWHbb8tN5\n",
       "RqeHkujs5ocXY8tZBKLAsVgRmo+hHXnsy49vIhgr5/Nuk/i1mHzUUDkHeUDYprUTeENEP1e5d8T3\n",
       "Rom1tpDlkjPXKOmiECpc0uJLLl+XG4O0xx6/s8a89xFu20ZFOzN7LoblDTD+8QAIwYl3i54Q+pJk\n",
       "vLJUmTL6MEiws+yJVPHNAEBAVyzqxYupJ+OiXggJB04Vbj746nHp6gEOnTSTPdqMGH59E46JnYD8\n",
       "MV21AQUfACW8Y+aNxM2WYwASyeIrebHoMfytRFCcc/JTzhLGOsxXkWIxlAb4cLlPqAaQ497pAVRW\n",
       "8FTpFwAAAPYBn41qQ38AAE+mB2DqSs0w0/2TrkqGy1fIr+FIAKwLJzfY4m4R7SXzTCbXXgjDxERs\n",
       "N/QI2j3dbRCbySWc1i9sI6Vz5VFhA68OzwYN+vZyYeL6jxdnW2ek8wTO+UYyZs7HUJpxUzdorRGe\n",
       "QtP+Vm5VLxxWaz7L8gI76t0o5xyBOZXM8jR84NnYfjmLwYs7MFImQjJbVBtVlJ1hb36x3mE8vPX1\n",
       "Nz8/rdL55lKotaPVJQmCOvhjOWO+bCtBpdnb+0RnKr+SnZbqFmohtJa3ooSTEsNrvyPGBVc3g+/b\n",
       "PEaAcabILhI4Bv1v4dVi5/oLRCV4QMxWhI0AAANlQZuQSeEKUmUwUsEP/qpVAAADAAer3qVl89aT\n",
       "zcZEAVAEKPwTJ40CDoFVWOaTZPdBs+tP5XWuomv3trjAAJeaaiXfb168kXerofbfo9G6HuwILNrg\n",
       "SrV4RBn8j80cxW6Iy+N7WOBrVTPl4olZ+3FBITjtiFZkNBhZQQpDgqhhKLPuSfkaytw+6LfrXCXC\n",
       "huJIGP0ZLMNI9WwvQ6WcVoNkVyRxoXQ2l3UmSLwqsCqDEJiI/BLSyJxlIKDuhqiADfMGWsEm2tz6\n",
       "gWYIP0Z+TQvk225kNpPavRFmaZvpKBlJRQ7J0ExbEaxD2sl8qsUO3Zfx7XKfXre850jWvZS8POSI\n",
       "UndAi/7BGMTXxtYMR9crW0Z0WyzxG7XUrvNjTrQZ/yyO1xJKLQJxHdI2FDFhft6sFsW3edO8LiEr\n",
       "2R9uTmSEH+MqXHgQHEHwmFY5h4MnrEubDSOC9JNYLe7Dd6xViF4G0yaXqyDc6PZKN8uUbAWDsXvL\n",
       "Z8nmpLeZUMXG3RL+skecCYrOfgRtK91opFsLo2HWo4GtPPz3FLeepS+2D4+cN32PhqSx+iSbwVaM\n",
       "kdKVIruHPUyKkaUdp8bqkMxy9+5/H5wAJv2Bf00CWE7gSi3nExKoUSfroP9r0D4fH4bOCu0UCe3a\n",
       "Cn+MyPoTF9gy070iKbEuB4Mw+otgMdittw+zYxfJsV4QB22EdPse0v5E/M1ghRqp0PiQbSGlV43i\n",
       "WZwbYR1Ht3f7vAx/h58SqWphGkn+CYeSnL2vNcFFM6Qh3yZB8s2s0jMLBh4+klkeqAhkLZGNaZxv\n",
       "i1NPxXbgoLuhDXwFE5X/w3+mh2814Hvj0ofMnbABklwGIXjYVStNs21aNb46E00g5x10JOKvTDZr\n",
       "Ab3+NedvPc9s30uhuUPNZVNDmAsjk4oXHTkqW2eqER4feo806snoCZ4aEjLlzo1m2GIrFDtUplEB\n",
       "eCSvtc4uvrYB9N4Z1jyyiNz8tZF/5FbXDf2/NRz8dDie1J18vuCTIKmZ1pBrg7q/csX13jvVdkS2\n",
       "1ub44ms0QFsLu7a0S3IF2+ZWBCTFnkcmsGyegkDqKpQZjPo5c7eFnTxMON6LS2cxuDvpC8tJ4pcu\n",
       "bXmE9IWtq7c1W2x0IwCrZkmdzfhzWUT4I62ELF4m4cI9DcX0kOSmhX405FkAAAD5AZ+vakN/AAAD\n",
       "ABVSyc3+CKKCoRYQ0ivIChwfs2XwzqEvm+r3dFRnS4UH48MrJG56LSpxuBAVY0oC9Ecjl2LYD10A\n",
       "CMLLaooseXvFsRtcSN5upsqUA6hJQvUHKJslvL9Me0oQW4NI+jp6rVGi8D5FquRap+6XctFf6Ajk\n",
       "h6wYhBKdqpBIbrZFmtOhfuscyUBRBCXXT6pKKb1OoKorJfxRmzLNk5FY9wr6wU1Qs8zcljs5RJhp\n",
       "kiowtyUfEPhmSBvTWRmSz7GqgRCF6mjqg0fFdwNqHuxUGwoIUcx/rouxn56YMF0ExpydncD17zVa\n",
       "EzItvox2msv/yAYMAAADFkGbsknhDomUwUTBD/6qVQAAAwAB9fjoMH6FybLBTz6yH3r75PtzE1UI\n",
       "4KrXk3XlHWNRFOAH5WzIiz5yonyKz5uN1hPbeBJvAxlIZ4LsTOy24IFYAA2IEw9iiMmgEsGA9W9u\n",
       "+XEZHOBaxTV4KZfSnG/W2hSSxrh1Ywz0D/zcxQb6fJK9TC3B1vG/p5m0AhObdxphwOA8YViCpyOX\n",
       "O/ZiE51rAhZgKrKmeBF46QSUqepIb5OL+mvxarnR+RRiHIrar8/jqT9cnfEkUb/MkqJ6jJhz48AX\n",
       "IB7LoDQp/90gu/yHES6URydSPg98zAt3cs8bQs+p3KB5nhRtnAQtSh5M6GeO/eLudmI83pXwu7/c\n",
       "rERgubuaRvcWIMAn9d7PZsGc8cAjRh6NJrJRcLwHVGtJTOkWOI+uASZnFi7oEiyTrDA1q7YxAjhl\n",
       "V5uA7wu2WZyiY7BBlvzv4XCfMmV+Kp3b2k/kFXHCJKr2TwK1eOER2vT/vNawwy4bngnoChlwqrbZ\n",
       "WW0dQLpof7nOfK8md80UXrVfq1n4nYzMtMur6duwjqYZNReOqHyKa5l5c4bS6/M4/ki+srzNLiBo\n",
       "ub8/Fb0jLuvr/wPM1SA4UZJlNTqV3nhV/BzzqHo2T/sP1KPUH7h8TSPn0ZNJjTO1YuxJ8bfso1+F\n",
       "C4ceL8O4RQEW50LU0GQtFRs4TIv0aqXXrCZ+JzcrhcnieOYO/eocEUy48873SXESSrwjC8C3iPK1\n",
       "YAojWj6Z2PvH7iw5EkZLO8dgK//5uH3bwrP8zc8FakAsTEhbA8v9ktW8RytTozikh3ANZarZAati\n",
       "/0l2MZr9MSen7mquOccD7f/iFQhUY0ChAh1q/X6O5K9d3fP5F6FZHVaivezlX1agDSTgct19gjJY\n",
       "6tynfxqQ8gFbmwKCG/s+gxw9XEzzSGgpVUz0xyDeaYuquXUgJCs5Cth9wMyMuYpqu93yqXfgH54o\n",
       "JUzmmMhHBf7QFm2udFg//Uwz6aJ6/dda/FQ0tCboWGzZOUrPXSpKmIYL6ZrlhFmH6ppEFqAn8M73\n",
       "pZ/KK1t750AAAADwAZ/RakN/AAADABUIDG5dd4mMmj9zCAFrUV332GYhzu74+dpDzS29WD4QcY2E\n",
       "Ay/tJiDz/owmygyRirkuiMMlviSVpcdzsXHcFIOLe+Yv9iba0uJ9A/3kr9C/vVazaj8EIUxOwVFr\n",
       "UsPuzENvqgOBASyCup/SqfGPs+SkYnRkW9KyXN7XbI9CGj2MvSDhF9z4xUnwEKNQkgVWwwkpLRiI\n",
       "lR0v9snMrcFnM7dRRRCNzt0F/DzmJtqut0ewPK0YvQn4HU4adPwmC4DKZUyGi5mJRGR5jaCZvWSB\n",
       "ogMNyrPsWtwg+A/CzEnDedc53qb04wFVAAADEEGb1EnhDyZTBTwQ//6qVQAAAwAB6vepi2v/wXtr\n",
       "GCLABDsGqITVhQMFExr6A53R0UcLa8rpJp/mpuBlXwGNijcNWr1LD98dbNfLXrlHl7R43xa7vf+n\n",
       "Rn1CcbdTfOT8Bsbd0fZ+KrWj1DXswsAE3G+RD7C3/WIbz+t8hzBmtOa9W7Hm9qLqt7Mlfo6N6j5e\n",
       "xJbP5v6mevDFbXOa7Z3pu2XePfXqwKY2doMx4w2cSAhAAs9H3iJ47Sute5mqDqHZdx0d8RLsvpAK\n",
       "W3v90l8XUa4kJ0+DqzdTamvAWNEER6jqQOg7lvnZ/hcMYD55B+yGvBL+ReTluh7Ms2rFAwNqBcBb\n",
       "+P5ejiie4ot/0aeuu+mNuSrRb9D5EktyvpSLU2ZhUriibgJlaOoWY63XdJifW5ibR6cKbo2mHTCa\n",
       "nvsZ0yJCk3Blv/j3CTYDzmQjtC1UGtGuX+wML5Qwf9POS7t9GFvKdIROQFWGUVn1qCdlshDnlOMc\n",
       "ee9SSmJBrd7C0R7EgMzpVbvVj+0egWlePTFc4eu183/tCKux2gHJJwH12PJw8ZUh8dqhXf/h2qpa\n",
       "dynH16Q82z8T6MWRKJyOJYQJfbU8olWqan9vpBzAJY6hw6UQuqdbaCVAkFuRYI5j5vA1mXl+45g7\n",
       "0q6t4jOH8Hjc9oHRsRxLZow/1BWtoYkN9RyR62IjAhkbYD19aSOS6VpPypQeRnPsIYVd4IKny4r/\n",
       "o1TNyjE8IzTH2BJrDyyYhz7IukF+FUN2BbVuSkjr95Pl6LGxL+Bmk1VmyaHGsY5/i73AfXFrbiHf\n",
       "v6D2h8TGroJk2tOd0nwyt7aroRWsq4o88Xg+q3q56HHbQXxEkkAn1ZBHlb8gwPK/ZKfsMtALp1rR\n",
       "BjoCVOFvGa8Ex692f+Gf+F970/ylv9Qpp7BvsVFG+jNev3czuUQPqIb2do5GZOqgRPDp52ocuaz2\n",
       "TDkmagiak/q/e4000UtLepMAl+nM5ZzHa+q+IJezcsGemLhrSv5wdkMJofwHFhl0CGpkflQxBNg0\n",
       "6Y/uKHKq7uqw67Lq3oAAAAD2AZ/zakN/AAADABUJr+re0PdbV5x2odGeT1hwAlcbPPHuvyYpAix+\n",
       "n4xRAX4zgPjT99gz/ExCuWLSlr19l7jDPwhjSoqJPECJbjRlaMyKJNSrKQIdVHBHyk0DoidnnnAd\n",
       "ZKxh+tC3vKZSEVk9cV+Sn2SYwaOXzHJZhFty1AfAv9JVJIQLoq4Q+6urxrS5+wuqp6oQwlbLCY6K\n",
       "cyC278+QnDAGkC9GHgLIOS5neBbZAb2AR4AD+u6y8xjQFNk9FOMXli0pQ+tplu4LYMATCGRBUlzl\n",
       "xiYzy+t+w3PNzI9EcBrCZqqxf/0nmmw3exFs/eLUGz1eYAJeAAAC6kGb9knhDyZTBTwQ//6qVQAA\n",
       "AwAAer3tFEEMFaURbdZmCLNSd2rqLLgJkxR/xYIflIRG+wNP/zD5ff8axPv+1OUBBAkT2fellASR\n",
       "s2sPBTzCx4KdvtpUwbKu5Ve6e6Z6No0RtBIlSLQnpS38ZcPy6QXjHx/Dd/ECCP+cZO/Fxqx3zjBM\n",
       "SQqwfxnJ1ZAs3fecaRW1oWcypXQC9UhXUy7gcorurdG891LLj+0QKJ9LycamEgBMgaS/ouym7C77\n",
       "LvRlSnk1Smd/+a4Ar5YPg2pxxAxW3whV9qFEQrownKLLRN7PeAU2PmrzDOemUd5e1bTygBDjHi+I\n",
       "xvJ1N+xMGMSALGj2jeDST4Z414h4hss6lsYaN5FJA07jKZeLA8OuYttDRipNrRlyZn0FCac0jgHx\n",
       "KUmrJJmC08tpamZGzzvw2x5bHY5ee1ZacmNruUWxn6b+Yu7/z2fY95KnwFbuO/rqXzt5HA1maFHu\n",
       "4uDgalbRUkLu4bhVCOCWk0kzu/ZDQidwb9CkrzL0u18B+uAoG8LJ6TGoI4texyXFuWIH885EG8pK\n",
       "r08WUa4KyIvHwDdy796rhFJDPVPxfC0/erZQuOvdBdsS7pzpV/OuPI2XwByTlv2yVf6f7v7xB3Ai\n",
       "+VsxyItxUIHzehF5Ks9fG9pzXThc34S3aaO0hqBiuAF6BCMQ8an6NHf9UknqQsWkSoqWS3Ps1l1e\n",
       "PthJHEJCHtkh9PK6HkJ5qT08B9J9jxbE9xDZLrKytLWYZlQrDGoJw50YipKUBCpqRMxxXHnPegCg\n",
       "7B9M1SFrGsr76IAASw6kolsqnQaj0yR34Ovi0AB1ZoRpwpSfqoMIUEAh5dkqI0kTc9bnYM3q1TIJ\n",
       "Tdqd65YVydqsGmEDeMsct7lMddQZdHQpcF5pcp7iPE4sdbNIhbe0OQeecYo69d76Bqqf/G6U3oY3\n",
       "t+Srl4owCc5CovaHPvh5sLI5P5Scv9e3huerwEH81D++zXuVDmjk+oqQg1XhAAAA8wGeFWpDfwAA\n",
       "AwABWXZMoI5AC2gdTWXRJbsswVywXC8NMwJSBi+vDo7Z5DrsRFk1y1Pnd9J9wLkEDUjcfnzrZE26\n",
       "bUfdP23XYZT7FtjT+46q43Y3yNJQAaaQTXW0v0vJOuvAVtfoCzbrHAP6N+B9eoeSQjec0nwOFah/\n",
       "DAH+851n7jnAi9Nn/bhW48TGnvFOTB2vs551V59RSjC1HFJwdtRmrWmoY2kG0USYOJgcZWd/MsI+\n",
       "0Hv7+j9v9Js4CNehYxfyfBpZhPLjNrlJTubJbvDm0HDZZRyaZLMNStlVoAa/MnlqJxzkB9tCf7AY\n",
       "ZYjHm14S8AAAA1dBmhhJ4Q8mUwU8EP/+qlUAAAMAAB9fbHRxZrpmHOAAOlZApQsH4og+rg2nAL/T\n",
       "U5gO4ejouq+POGh82MiMVHl2dHj3Lxi2XjONTBzhiyfiXi6Ws6oMGUH2mGK8SyS0CmWFtjsG0sqt\n",
       "W6PYkXDunLgMty+aHLGIEoaqcRBX/h8T+vj2rkM5yuwLmrxud/VDrKjrcPXAbJ3UrjPMBSQXd3B1\n",
       "FfXOcfbP2X1jbJgIHawugCO+gG0tua0+NLTw7Z3DtwtVMxTq+EyiMCGPeSG0PbLSIBMOo9JUmwtu\n",
       "dwlk7/pkken2/zruDuTxO/c0zUUkJJN33JGsPf3ghG3lXR0Y9UXQiR2yrgepEhs4ckuNNW6dxzKN\n",
       "1q3FRcc+SF3h9sHULNLxaaUI82+eQY2fEOnKeaofYqSXD33L6TKbmccqMIItorOgf21AW7VwPJYq\n",
       "35o9EUiGIU4QpQ+JVNhiRmEhLHCDg8v2zEt5gJ1iXhdlBZB9iHEXJ/o9N4iluan87kvWb8zZQvcr\n",
       "uEtYSxgiQDUJFrRllJkeJHBQdd/a9fFqB7q1sr92rrzbsL2l69r5PeC3c+XN8HBVkA8ODpQZ7XEI\n",
       "IzKUeC9xvrAsb+4JIgJ7oysGAHpQaZGoUb9M2z9teReqS7qW/ppH74cGmcMFaI4pq9wlOdt8f14/\n",
       "/3wnTFp5l7SKi9AQJ+zH3359kvqbP0zN8uUEzRJXGwjSm/rJ1k+c27dMG7CzIjMbdN2U0owfctoH\n",
       "CeQj/fe2R38Pkd0hKHfX95HEctBPOO+WkvabbkaBfZ167x5HAg8ySZNElSSuL5Ro6ZR8KFM3vcZS\n",
       "lBATL4ggOxiyAWdqaFgWKckFg7FKHFq7tnT9ngMg3cgVz3T1YFk6DdCE5y4d5TGLm9eeP20gJ6mt\n",
       "242FzvzBkdiYSFXQ1f56VHi3KFcZl3Auen0MyiEmSeabnnslp3qojaECnFfmFYlzvvr6aqcVt34H\n",
       "VcdEHFt6XBZAuFEUGNeBrt5Gvy2XhWUwRvtrE4Hch7i5/ieaAmMF145JPwGiGvjer8IMmcFLQlFP\n",
       "OoQL9Fd5l9ixzr+KLCtJ6DbYCI27a/ZgUgEUfDtjxOP0tl4mpigWexZNPkERA1qd+vL77aE4cyHP\n",
       "gpBvxqg9yVTRiGEAAADUAZ43akN/AAADAABXix4HxtnBTM0weNFbIKdqaNuDtcLPKJs+solVuO6D\n",
       "ACWNeo0tQP6qBCVwCcDYBGIYl5+h+vOn5I85Xf/hDUd36Yp7GCDsX+eGWts/r2F2FSOyaLsiOcsn\n",
       "dwNKh1tEs5JXxG/rBQwFufwCZeaW6wIb/e+r7EhCpXSJDf9tERZrId+rOBGsuXxAYNtn2AHCtJG6\n",
       "Urz3izEMZyjKWkQcdHk8B96tF+KrxvYBZ7DCoPF9gMbP6INj2OQEje5Y5HNa63VfDFkbUFLiG3EA\n",
       "AAL1QZo6SeEPJlMFPBD//qpVAAADAAAer3tEcr0bWk926rRYDItxySf7yZ9RRk+Bo/aJnZlLIIrU\n",
       "U6gYa+lcoSWPX1il+jbgKFg/GF7u6P420fN2pHzTBuWiVp6FHai2ttP1yPfg5XQlA8O3WhDggS4H\n",
       "+fmyqMnYrywb394Knt8gISRQd4T8lZVVEkp/+SPfG+L/QWH82uV+8bYfwmqc/uoPWs7/xrwLv7f/\n",
       "u1oG4Zg6HEh9GqQZelOx579oQO5v+1hyJq+r/xo1MGh8CdAmeAqckd/Bme2cODewkUvmEM6yeQ2/\n",
       "npneNZi/6au8ufRhFTlOebGh4Cn99MTHVzC//3ozxYzncLU1HfAreFnB35KhYeJV8eL7CqxoaYsw\n",
       "/IS6RDS0lEtY0/ZRd4tgpPooAoj6bHHiJMkoK2TmHhp+QqOQR8kHhV8M+OfFDFySacLH1o63PfGW\n",
       "2/gFUSEPIEa4A8zBq3VChv9lDgxr5OD9tA3eqqmRm09fxd61tCgW+lHNgoVTV81mBLGrQGUJlT0I\n",
       "lXJxh4hLn5YMCxQ9uzthhcrKHy7yzsI3RgUz085nRnbauM81lbq/O8sIW/I+31a/4iS5bUpzlHp3\n",
       "VWNS3AhCpapNSW1ew9zFGh8g51pBmKRO/mNjG/Z1RkByPGQN4G+XnxDT5eYlwzmNxfUWuj8wZudh\n",
       "WYRAsy6jbf/ieQmqww8p31hhvEt1b62VMXcR5rw6G7Q9PRbt0Pwm70UnhnfC1COiPu/yaegDFcW2\n",
       "x0jcmIgcnqltmWS4UIWfxvbmbROY1CZBRFPNZj6ru3FeIm+i53yPWxn7jNdyi4zqWNhy0dKbKGge\n",
       "cC6JeFxhRUZ6+5FHhm/Zy/2yAXpv7fbBg9/9Mi/szdwse/7O0bKVxKH0Mxt1M8fngux2wE8Lvf8Q\n",
       "r8j4Sbn5O9msaPxBm9B/AJMLzDu0IAr5wiWzs4/X2PG5AB78EZwoiMtog096UCmpeWbIuhfmUm/b\n",
       "qG/WgMaYk2tqfcIit4Gjyt6OwAAAAM4BnllqQ38AAAMAAFVbmRV84A5e+ML4x8IzTsldOE3HgFvi\n",
       "BVuv8OaWi06h3JSAc9ct5UUBxCpfBdsaAEIhQXRl3Wk405UknOyW37kpOfxrRj3TPC4O0kGS37bZ\n",
       "hSzzf1aSf3JeUb+aYrbAYniBe7VyV8XrAujRYvZL8Hi9cp2zFtszNaz1nG4zxFosvKwwNbvZfgr/\n",
       "pnuaC3DOec2e7xIsukPBlTLKW/OwD1eeD3g25GghuGSZ6JBhBAFFtHXwPpyKSQUlE08xPFgLqoEB\n",
       "gQAAAupBmlxJ4Q8mUwU8EP/+qlUAAAMAAdT3qYmKUl59DPNLiUAAXScrN6Pr2Q4Hkufvdwwzho+h\n",
       "UbGCVjI6GPShhfKyh7x/6+RxKa3zLLZTSv3AoigE4BA6CTMKOoYzRNDuNjgWbMEuNW7gNKJbiWWn\n",
       "P7RGlEDQk66eq68aNJBFN2rXuNS8ehmapD9yTjN4ORABq6zBGQy8/K86u1hFfKkl4m3NbJHTQ8Fj\n",
       "QiX1lR2kYekrhKczj7Ul/+rXH0CWFf07AWHbmerXLrdSRuqKtsYFHJjZX0ZhcUz0qBL/zqiKZ1Vi\n",
       "NUfhWMUXjC0Ztn+M/ofbRBuD9RkUZl9Poey4YJYRV6+Dgbzj+QvK6n8kCBmUiqihg5yTcU4+WKn7\n",
       "5Hnbyjoa4xcp/cUFpC1B1mdq937KwiTDRBvSKb1tepMLw8jCP0NOaQ0G1KhzgxpRskXqaWE74T9d\n",
       "kuClSS/hM0f9koXh6H8EDe0zVuSt8U3ax22NzbPNozFn3gxP7FJXA+y3kFnJy2wG6eJSiH0M8hZY\n",
       "bdSxAvwdHdUfq6shjGsonFWYSrqx9bBQYJLmOGOymIMuXPfvvOsgGoxqfv778f8Re17yT5npaTwW\n",
       "pyA2okCWT2NQm6SNbzXozzFV2wffUsx9aN7hJ6+a6VsiqxaAGR+7kwLpVltUXvho4yoCopqqd67d\n",
       "KnXuYBwKWK3YLaMCwMxHVQruBykyngj6JLKJ4nGLKq9v9jYYX74TlR1XJnl4rHzU8Mv97xJUrIob\n",
       "mGnx+oSkj+2+EQ6+FHeSVY3fRns9qcrg6LPMRkqLY7cc2DvytVzNu1VpKtRFqkVrF0kZYXsat3oc\n",
       "RLcHR9ruLij1qID+WUkgfxOywu4MfN5/1wE3pGdS0MoVFPADsKZzZLT5r4oZxn6GY2FNkF3vGAAL\n",
       "I5BgQ7X0QEPUccDDigonYZUrYDVK0C+he3JUVUFGNexHcIoDexypflth3jOmLZXWmXlDEAkB6dBY\n",
       "W6L6+93Gqx3JwAAAANgBnntqQ38AAAMABR072yYdPkzMBCq6ABc52GfQ5BtC/uH3Uc8p0ZCX5/U1\n",
       "mCE935X/CsR2AFV3VIDul4SwjCKasgS+KIXJi9AbXFKKqaKjrTmg3xNrnJtwAcdok4FhTACMmA+R\n",
       "peyddElBncO+hnMM6L2yF8NNzJtRnUJYouc/Wb3UCEsu4fbtbkiG0wQvkC31vAg5SIqyPeqCQMN1\n",
       "N6gyiF9LNOl0/Kbuw2plizq9TxvUa/MCPp2MnvgYT6bD4FaieumBENTjocOpQzDKLS51/iYbQPzA\n",
       "RcEAAAMlQZp+SeEPJlMFPBD//qpVAAADAAAH197RRBhFHspRtkRdI9xNLYmTaLa1jmBfKx+NfMlm\n",
       "t5MNtgoDZ7lgzYltbWD+K3LtN/LX2z7GDNYTfw0T/acx/qVj1ODMWNK5PeQUMK5/5fNwTf6qvMow\n",
       "l/Gjr1eGvGp/K2hU+Xj91spzpro8J7qYIDofY+G1+NrqnJTme+SuT6/Yy+rSJOyoegzmDfxNoKmX\n",
       "X06RYqAYi10wj1dq2y3tcFncC4aPPoUa2muh9LQ5yhBPKkIEnYOXUoMI/8HgC1lpSMLKfYb8NVPx\n",
       "g4t4S0sDGp2JdxR8tGIaYrMMLotXxJ1M72qxhv9ohrYdprgc8lq2O+U4w/YQWB138dM5hP1WrnsL\n",
       "8lZj6DCwDA8jHAenTS8oDnstBPzl6bA7gj2fw9uBfP1ylwdQyIiDih6TLNSE0huncHneMavJF+uA\n",
       "GJivqlyKWG/qAXpM90F5hJ/OHKQ2N2tSGpSeP2rteqR4WbUQEjZoWLomyn/6hbHf1feRQyymI8tb\n",
       "lOpuwus9FT5A2uKgpT8rySQJtoQsFzywDgE+VQFhzkiFMz7d1i9WdchvUjNf4STRThRu/Hwjbr0I\n",
       "W2wWCoj9JQ+lEcEGN9fQJj4ikz+6IMt8HfWDNDYE7UIjjYz8BASATkdtuHNhNfvQy1Z3yc1RwA82\n",
       "GNerl7P9soMKvPzOB5fgZCuH6w8vr9211eTwX3xcM0yfsC2L4t98kQLz3p+ZtGESymexUAs55NwG\n",
       "vgecPF3Alc5JfZl86guLNf1wO3J5KIbG5XswTnwDrQrSdJkzpDXqK0jX2N58ghvIkJ3LBlly3NAO\n",
       "W3923Zo3/8zl9CKyK5F7eKZD4a2y2FFURb5nwp2LQGJg1yDR69PqnOm3ukINcTL4jX5bboTf15Sy\n",
       "3cIZdqP2ZULTdbNcNjnkIryodVs3A8X32WKjaYuurVoD7wWqxO9UrCwtwPtwfvfjwX2yQSUBHUMz\n",
       "MYCBFy0EU4wMOaEaKPvSnGIunBuXnAV8arlZbHAOGYwnSSzzwsWHwdSD8a3LNxzAmWuCeCInqPtu\n",
       "Wo+3ho2eiFVe5mNpDwAAAM0Bnp1qQ38AAAMAABYk0zxeyPKN9wAty7ftwWQ+XJTmLiEJ0sIMB9yJ\n",
       "L/hGvt1jGxcPwUaNRliRQTpe9/zew6MITdl1eblYpq+U9PDTZPp5hnFKe4qqqREVV42tTUrhqvAw\n",
       "7gJKSHvXYVI4ybd7yQkFjAP/ASB2z/9OMm0yrT/62C5qRzw5OYcHNV96Kx6HNu1A3dvn+NdG8UoA\n",
       "uFGJe6YsUygOtw4LbiHiLK6BIyiAwS4HtpQEPg9Wbtm/tpofTGzyqo13SL+QnCJwAALaAAADc0Ga\n",
       "gEnhDyZTBTwQ//6qVQAAAwAAB6ve0UQQwVpXcg1HPJhAtTcQbfkWpzJCnA6hC1H/MHWz8VtUj2G6\n",
       "WnBHTkxWPKsB6qeADHOM0ElvQApwV82+c4PbRF0Pvf6YMjkzDP/w8vIA2VMxPye3wW893KJ/Ht4h\n",
       "hp1Q67aklMBMfwrtWSudGuu4w8K/DAVowe8HAkmSe1EQjv4yT8DT0z1tTQzaJ7IbtalWYQcNRxwE\n",
       "8ReJkGl3SH7i+kjS0SfXYfuW5DyTCeyHHo8ATC5obL9xM/O6lSfiD9uvO0eb9dI9C5QzA0/uw9v1\n",
       "NIjqatDTeQ1RS9004OVZAyfrqfXxgjh6zETPsT8P6CtdNBUSlXmAeoW1xhZJTXm2ZDOj4HynU4my\n",
       "YZSiQf1R2tRiHL7y0RkI46wGmMhO7RJ74/UZyngRvlyQibJonU5KZxvcwymmQLU6aPwJGpnTjyfP\n",
       "vzIQfs0faN7juEd2lQlWpJhF+7evvcNxwYvaw2Q6wxgm3d1x87d8R9PRfPf2yHLHJ/T69Qp7Y9g+\n",
       "yXKlJhs51ccKllmm0A3KKEx4lK9NDGPmlRvRbEnqJj/GeL7qyUnLulBYtHVfAtcldyulKOcBWueD\n",
       "i5M6s7KKd1vs/g01m+4MS7jlzPDOWCwDPiJSXwSDB0/YVxYnh4Gz1u97SJH7MTI+qYOJrjFwFS+U\n",
       "bTyMSz7CJYOwzXn96AJzeOHYbZp5m00lKgIR0xZQUiHBEfS8Ccr+LN0el1m7ngx1nsjs/MHuXOly\n",
       "NLcZe7sDxw4fAfcPmvUUrEvpq5KwrP5Qz0Sb2jy7B+fwo+IGSU6pCMFx8UcZGzHx9vy6xtTGLlAo\n",
       "OOAoovpCT1d8J8akxAjY28YpD8/vzZL268bb5Cpv/+tokCCbszSKU/fa/PDlcLWPtO0PZ/RxMLzJ\n",
       "FkP6gqqmHFdKUCynbJknruZ5VA2CxktmzhLSNtCB6DVlNvPXbRaNnmNFz7yS7RaFpe+z+Nzlvfcp\n",
       "hRk9g6nxPuTUeCbmKqISubvqE4dyATbr9yJwMD8JasEGumWfRd35QFtbpGYsYlzIa1Jl3Exmh8al\n",
       "ncD4fpOXBI2qO5Bst22mlS2GoANhN3pGRfmoCRDJp7fKBSpNtnJRNmNkVEiDOgE3W8J4rlGS8dd9\n",
       "RcO2m5oZhOe+r+QAseR4xcgYzzduvBVUdKUAAAC+AZ6/akN/AAADAAAFiIZWiPG6nYH4lWFh79yd\n",
       "0Qw2v4Zdvlpn80DPGXavzsBDrfEDx9cjJ68bmisihnVRh93lWSDFRF4pruzkJSyR/8oITGWQwHZX\n",
       "jUYHNob2VqJb58/7Mrpr/6nRJSZfxB40F7XP+Llhtpbj2uybjIOUIWxWvK1zq89U6d/EyfcVvKE7\n",
       "KbAmrxtfcXKT+ehIWljBIJhSjrcNSg1AJBxLarrfxLADbtotZzqUiB6eIJ42pgADewAAA3lBmqJJ\n",
       "4Q8mUwU8EP/+qlUAAAMAAAMB9dpfwTsfnwNUGHZ4ddN57ZaVi2bxbS0Oq4KEwSACdscyaVMOsJV/\n",
       "bU6VY96YnwTJtb4JCaJbwOknkl03ZO//Vc8r6yU7NXO52RoM2AblSK7K+yhMPWEpn6CuhX8MkkaV\n",
       "7dtk1iI86hFdI4fdttKOap3UujLRnQKmj0HghZxaUjz62p4HBUJaCTcCjQBMwM5+61brEdE72phs\n",
       "1VoixFZHPkiAECkVlYt8luhM6gCoX5k+3Lf80iqS3HCsl/1A1GbOZlovW3XHDzBodFcsfuQMNbMm\n",
       "mDUfi3XDwXRU/LLtP5Xl8shgb7g2HUTmXixSktRm5b9/cx8D+TpDkDGw5vUxdljv6nAZXlVJHsTX\n",
       "a+Ic/ZV4C6V7g+o81pSvqqaQEDTfhrp+ZX+0yNiVvq2Xli2MgYm3zPfvbJPfQEgqiDnI3LTQsqf5\n",
       "difuroxpSR1V7dSPas6KIzVAz4Bd90QAMhU50EQTnIpXo45WVaPfhj0AIilsd6M+oYcJVrYCZMut\n",
       "buOwG38Pz8RNxx9Dw2mb0P3ysYvUckXMmwbUTCI6rxL9QjTQY5kow75Hb8XVRL9Xrp7VMy5BQ0dC\n",
       "zIVgkHwGprTmiXCp+CQEK2ZLvX3wqydPPtpYB5u1XO2QJYfnQDHNqLfwBzRfMyd613v6u0iQ++8L\n",
       "5wyUZ+FuEKgO8eTWjlWb13f+yRJNvdos5p6nr2u4u7VUarqOuRevb11nbxE8deuAOO+a4TmKhwB5\n",
       "CRttS0JfsE80JmbkUDIpD8xyUFd0Pg5rPBQMHxAT5NmgsalEpSr7BaXDrHlWDnEI6DfQNDF6lAzs\n",
       "N6ugLihEu6qk+37cU/uq7R0f+7RNR43tJnG0fVBaqQHymLjgobDToMVrb/tNVlvlsotD9wgpW8ll\n",
       "cN/g9wB94CBlJ98EE9rX1mW6hv89c0+tUVnuKS2Ja6KqmKFqMg7x7z6RRDH1yYrVIussYL1tv1MM\n",
       "QJqr24yFXCrlPs7oBitOz7Opzso5/E0BG9TNpt7JyFMmULmxwBEcJWNlqUa4QGyz05rsbLds+hEt\n",
       "f24BX53IyDry31jSDd/jJK30+31Qw6/663EF6rpEr/xQH1m6R+coM5DbzqIl+ACJceq5d5j1QP5e\n",
       "8vn8pjahgcpshzZaUXecNxE11UiNknmOfHuxGvCAAAAAyQGewWpDfwAAAwAABYeme4WxU21z3ZCT\n",
       "aGPujqY2EZh2qUS7kpKzr+fozvGKiAO7zRCMdn1jU7S9nsOMjDcRcF5tVr7eEUaY/OiOorwOe15l\n",
       "C9eROVtCEOZ3SmqwjA9HHrQXbvjzWa68RxOwrzwkt3YYbHA5tMqjfVLqy5LuCZjHAUYX18AdeM2f\n",
       "WVVaS39UJkeLJeVhX7xuf5xqw5jhIkPkgXZWxnF9PyVSLnz2RptD5+3X2ZV6B1ZDoVp+CvHDZARt\n",
       "zezl3sAG9QAAA2VBmsRJ4Q8mUwU8EP/+qlUAAAMAAAMB9eL98y2jIeJ/AuzaI/lyI60mOc3DKOV2\n",
       "iqb15H1QXsWwZ3jYD3mruKgfzwtOUALl8Nvi251wFSML2V/R/EeztpFhCjokdTKDYZuijUqXng0z\n",
       "xWDYjJGUt/Q0HPIPi+PQM/NxykMlCukM/Pj+s7F5VoUlq4Uf/kcPcTnuLhTqqu2ycwy71H5NzfBC\n",
       "VtqrZBjMMpzHBTDvY4bPexcdHpvRmxL2i31NDtC7rlP18ow5YF8mu6zAVzO44yG1NsisytNiEnV0\n",
       "EM+Y0uTOb7V3LlkIKPqxdz72UmhWRtQ3UVe6DcwHRd0UnoPTFUfa0P8sH3Ta10SLkVhCv3aiAkE/\n",
       "IPaAiVM+JR1ERuahZMWtu1mz1VcER4dK/zEl9z60cbjCWEpHKO/85bzlRyk+R23R8pT5XxQTqCst\n",
       "pRPt7iLGhjwyratCkKmMmmH8dwZK+EXCazoNSL3KfCHCtURrTfha5d40HosMKTjhC6eVsmbN/AVp\n",
       "VaPgjvZ5bfqWh8DdsyY7eLTYmdRkJcM/TsyJlEdmz1tqjcOlQYspISZG0uEz1Ys8+O1dz+AGG37D\n",
       "EMtI+57kGM4K1bgPqu1tWlQzYcP1a8vHPCepP1CmTP5K6YCdzkI9geGtcez36vVe18iiTnqp6vUg\n",
       "W4a1S487Hn937HxZuHLR5EMagX9VxqJMYFE7Ezjcwi8OT7YfC16skqYBWWBBS00CD92ANHb/xBKm\n",
       "5SO/UYw4+yrleHYvwbg67lqFPBxhu9tYsRfzMJIQhloh/P08IoFmFlsbZlauIRhKNA/R5XU8AzTI\n",
       "BH3GPhgNnRHc6n6zO97I2iy9T7Y9AnzCziAsUl8QIhVIKUXL9lfyx9Zw3FDdRZHhc0Lku9MulttL\n",
       "pJP04pSXA93x9KwwBGF0xvOGLjN/xA7mR6stryAY+9nXnpCq12tb+POQ+8cZPzsOQr9l4BgFoEIf\n",
       "sGjOW5O1zyLtJZwd2ZHvCJ0oj5DawmhG3urytCDwSzjgFf84QKmknTnrw2qMT6GBJ9cCFNF6QY1y\n",
       "OuYj3JRLsdyWT1VY1JjYo50tPG9SU9jzhw+0np95OW54prvJNOdEWL+nzg2r6WlZgA+3RL6665LD\n",
       "k/+lzegKNUIZopq/uY3UFDwnGNj2PgoWWAAAAOQBnuNqQ38AAAMAAAWJOtL6t5yQA45xJXcgSG7W\n",
       "cuKDq2ZU38d7TKmT3EqeP9TGXOMJGvLIUa/+AezaZSesicGPz3MpS7L9lhTN8eLU9wb2+KGEuuvR\n",
       "HXH2pwe1dewxJlGU2ymr8WxfTy35+gArbQg8Ue1S+f4gyOjpr2TnBU6LBI0knRPpVa+v2iFae0XX\n",
       "AlnoYt37RfZwNPaDygc3BsqPL7GDnmAoQhyXpWieP3rMjbRGAJ/4/MGbJkXUDzGtWl0LbuD1ude6\n",
       "Mat4gM/JbT9ev199Q7JewwlIWKQIRP1ztg4AHjEAAALGQZrmSeEPJlMFPBD//qpVAAADAAADAd/i\n",
       "/fOA8hjLdVXlQUpQgAbs7HmnQ4CziC0rdH8SRk96Gkoanr1uDAc+bQWnfKFZ9/aGlL+8lDLPqIbR\n",
       "BYDgCYOVdClxPLh2hHclnz9xtWEtAzqTaUfmPSouUyuW0s3OaDReCAzNTpipUJOc6xrUMojhFM82\n",
       "Vkdx8j7S53py5DB75a2XOrV8bZynPeQH0XqvrH1b7Afna0xGGwmHyA0zjKDpM5j8Y5wKSb35Ojra\n",
       "jyUQ3DQN2G5eamDAA/Wgk2HKNUqoOyLX24kCPOXeBSuwfPdAz3wB2e/4f+SD42sKu8OyJLYqzPtA\n",
       "zXG2EITnKf3CFXueYxaf4AVrW4guw+8w7+4dKO5OoitWRnn0rHnmeOsCNrva7HoRZ267o0Gee911\n",
       "opFliBKHh0OU11Kob5q3TM7Fq7UqoGIRNb/jHABEgNCT2V8j4lCyQ1AP3uGZpZPFtFu+9BsnySwo\n",
       "7L8SgKTnuPgMowGSVIdkWxHlGfl1lOk3qv1IqKk/GLD0PWLOvmB/KESFhCy+urWgFzjpYDhG6VaR\n",
       "4lPwaPVnsNMDJGF2w0XasA6ZjWnIS9llgEKYR3uep3mlwRQBMagEuE7Bv7uqLhaODdpfINKXWR3P\n",
       "RPjdzbb9e1Z9gqBXjHFuGf+uqJ7O59KLKtiMQnb/q3R03fCDB4luZJTXJnICvPGW33jm7u5zL0K6\n",
       "/xNNckDH9oYB6Up1hz8Sv3+7tLjnDuedP/L9e+vFcgLRzICNmKT4bTEbJuKB83f16sMMMoMujk8j\n",
       "8YG0NuRkFPRe5id/QE49MrvbCkpn8BotJpbP71DmG1LZkYjm5RncRttg5bkuoSLRSJzN+whWXFpG\n",
       "KivBMdt0Gsh3hDLTZX8bKv2QU6Z7Y0+rCoe5QIPCnsDsHYcgHmVY2EQhY7m+vyKWCl4GbHl8WcQB\n",
       "hPUAAADJAZ8FakN/AAADAAADAWtOOIQ7Nflpwnbw5BlsAJZszDBysAMcWfuoOV0OXXtkPgKzgLI+\n",
       "EfrRuxmoWsKBauzrgvE6Yh3vmXtl9Nv98JSI3rNTuowcof34HY+JG7qmiBEu/Y3AboVROVFkfkNI\n",
       "SdiXei/jk/xHDdhQE+1OzRjrFH+YijNZ0WO04WXYlbo0bOcBCu4um/Mzl7jSDpE7cy2+JhVcoIPF\n",
       "KdbWmRoYA/VkioCC9Wd01Nf0tpGk7dL974GAmk3j3o9CQHrBAAADH0GbCEnhDyZTBTwQ//6qVQAA\n",
       "AwAAAwB81zn8vjLSW6NAAXKPwQhFpdWZlap+OPXe97EDPIpkDkRKqAzk9DZN8y4WiIOg6XfxculP\n",
       "i96xG/ulnZ+LxTM2p7YxJApaseRrYeTmCOgGAn9XZg+/YKJalYBKcScb1YhEuIx3od9gKZdjE72J\n",
       "h76y1NGEG2i0q7UuA4shHOsfQDuU1Jo+SMDia0++Irwo8KXlXjRqbYfDuxPPYzHRd0O8oI00bmCP\n",
       "i+AiVxP7BXQPYIMeliJEPhEZF4Yr5XACjuKVBaLo7KFQSA1lUoiPoG4vRbNXVma1OWGcewJ4CFYk\n",
       "wsZG49kofd+bY967/0J6U8k4n25hAmTqL37ZlXg9ksn2zYu7e0Ti4ZjuCfJlyu+6gIKzGvurJHqn\n",
       "xFszVF/kQGjH/suV6njvbzpXQq8I1KYX8vBAhE6YjYcehBoP5VM5FTi0CnIUztQTqqQM6DBgFvbY\n",
       "ojXoD5DvegJgYK9j0PcHeBVLBGKLNiQypDGytLGW7kxJ4kVoFbPGrotMPLN2rjDgYZx4KowuA8OJ\n",
       "8zMCvwuzo9lkk4Sy6a/ptktG6kQ4iku/kk1uIoDLPaNyWooczDYOI/YIBsluU3ReyStP+IR64uVy\n",
       "7NbAtRXlMMG/c4A7fhv1zqdf9/OWjyZo430khy5aS3l/8fKd7REED0rZwCs1Ja0cf3DjvaKtcJoE\n",
       "lqwCcP89sNNdneWpyqiutJxT25vAdONx6T123im6tFutopCZY3grdm0sST+VfJEzG5u4BKCz0H2s\n",
       "xnOMX/hys1uFBQ5IejLuFN5KbJ1wddYK20yhB+N1Hl4ZPkssn9hZ0G7xDwOoS3trYxRiSfWSkvEr\n",
       "6AzJsiRGmFbJnlJsscwTdaBLlI+ouge9J0DcmI0c/P1ExCQwnYfcpNOWEAkVnov3Zlv80z/JnuiH\n",
       "PoZDxN64VnKKp2V4dGTsbhiVSAy3SyxEXftVvOc9tN7BpjNXaneQw6LQhr1d7mjK6xRYBDHMOt0M\n",
       "tzk//v7JoC34g6gtF+kbpcjetGPs0LVKSRupGXpjimzwVp5EHccpsksAAAC8AZ8nakN/AAADAAAD\n",
       "AWIujNKbiwn7YARZIjAMnoe2bB0odUiL7gwZs9g9uvwC9k1KMv8vrf+1Ptfmuwhr5SnTsDD/d6Mt\n",
       "qKRoWLkMNrIItL7133vf4VxqTcLoPIakriERN1YzEBWTR2h3yXnkyNqFBmmCKWcsTViBHUEmXNQp\n",
       "nbdMYuLz5yElZAWdhdBbT75NLDnVe9ehIbVRK+3+anhCBI+GtMjtypk0fMbK/VOweicWGznIRaTP\n",
       "ny4NgoIAAAKcQZsqSeEPJlMFPBD//qpVAAADAAADAH197RHISYW0WWOrC4ZW8gJLRpPo+SKHnRSh\n",
       "e8ci93b8UEvDB9f5l0RFX8SxDtT9Fgk1KWQ/zZidFgQQFVT3a1aWLDisv4mR9d5d8LKeEJdrCp+d\n",
       "BipfbXl7tB8njEsXqUCnFx4HOZwlYaio0dckfbZTZ2KrKSGZEewKccH5QRYOUcoEPV5Ge58lmuCx\n",
       "QbUBD9qXyENcEMENlnEWVwTf4yWjXzt560VR8pMxJEAr5JFDXHOB9VpqKgxVy6dg31K4/wVO84em\n",
       "77YYdz3A73D4lkYe/UbYuaIHSgWTK2MFwje9Aixv/sD/oGr7gk242eDyBPIG/1hECcDcCLcIe2hT\n",
       "HGPvH+sxqPrlqwIC7SKEKGuGZg3MpEB6c6alsHuKvnxA8OEqfLym0HteSovCjMqqjIoAl77GCppx\n",
       "Af2UfxJTgN/liXsPua2A/XrsTjIjbiKD0j8/9aNtXrADiPo7EtdyNiMiHWooV5JuNvQFWHxNMynj\n",
       "A/GA0op2ilatTaml74Zep2asGt1slGQkpA3gKplZYW3Rku4UGKMOl5xzYQAsimOCtMjY5osxAHcX\n",
       "1ToYDIiKEMEZ2xO6rFtJz0XfCMt5rErGVLJ6kfIUywuHXHGIInBm4bO3A5MA+Q4m354mZhfxRR33\n",
       "iNWSa1x7UpnpvXvqgJnT/va59Ohrl7PdWZKd84iw+q9/nVzuvHBzw3RmkNEcWy6mEW1kzPmMDPIC\n",
       "vUQ/g4w96yBfMfTcBA1wPSwfTG9WOjMXRrlfvejy5x3ohRnegVvV4dHsxx3cO655G8ZugEnPaYuc\n",
       "ba35UtKb+tSUJTutPnm//lJP71n8JpUF3uzF2G3ym3JNaaFdq63IVKXJqrjm88VehIAAAACzAZ9J\n",
       "akN/AAADAAADAWJOdv5P6vYUj4Mhc7rW+XwoQBYWxa5gw0DWRuP+x3uE4vKDaxHqJQcVu0WprKZG\n",
       "sEQVK1NEonUSh0p0yBpqgKMC2QCvSayQQeU+oZr40y6ExscvRDm5VTnKko5yhOV4LLMqTXBM9Puo\n",
       "vrcQmM7o5XgBNjxfCxVlxPu7bVqd4/Z2rP38zLjYlEKiaGj2nhzYkVpUFWxxE0JniHB5nbpR0V4F\n",
       "1dy6jZkAAAIdQZtMSeEPJlMFPBD//qpVAAADAAADAHq4vqZ4wyAbgSzi2DjJHlQAP1XAlj4e9xuf\n",
       "woLzdrn4yuHN3Mv1HMD1QWr6paOb2voOmTIxZ9kdR9PfxmyaJo2SlCrdKw8axxozU2raULR/R6tL\n",
       "9ubsaetdXtueJyLYphFMwlPe+pyExGeq8XbQfE8plSIqEkAgjswwu/XVImZ8DkPWqU0k8LcOyTJA\n",
       "Jn2n2GtNoKrra6fhhveQTUsu1elIpWNTY+WtabTVGw10cdah+Pp4kXR8lYGt6mkuF6U1PglimhHt\n",
       "U6xv+OoBDDspWyO9B9VPCXX58U89VDZ5+0TIH5bbaBBub8aMQGsPGkUsCwseE06jQQGBNuyl29vy\n",
       "6Yw9rKkFbCshGpkB55s5L5NkZ5NQQZd8Ua4yJjiq7mL8yG7RW+NFBrZDPMKc+T/zXDpfQxAGPzL9\n",
       "PTLE5/o/ntqMXWjoaZRy4CXl4ylwQVGc0BgUA5Cs9TA81k2EHtFTz8OqIF0/o6XFqq1iK14B3yRx\n",
       "L6/5xvfKiYamNpCte0Wb8P5jLZ09GQnW168jSDrVxx4A/+LvZo7NWczsMRtxu5WRsps9F8ipb3BN\n",
       "xxmRo/dVJS4BcUklgBSkFaDgwFiL+MmPNMLBaqzpZ8s52mYabdCR+c9rIbUlRjFECeUy/Y94GLKN\n",
       "0dwFZ47ENTxIRvm9yovetpTol5ftAbibAP+jXeZ6Fxc5OFRvYAAAALYBn2tqQ38AAAMAAAMBWU1y\n",
       "/+hnM5HLfXCiB2cVU6eHcoXdDdwuXfuw4XT8lEeOM02flQ8U8J5E2ck8jWEPZBTbR52zNl0xhaZ3\n",
       "wQBdm79axskp+lu/7T60HHiVW2z7TO0QXIQq/Qq9lHeTMlQidyWKnvcMnq2us1CxmBeGos5aApFY\n",
       "XsJUl0k/xDw9NZTnQQXKqWuM2XidOaJ+2cZ4SBODrXnSyB0AJx8kz63nVDJdpBCFJzBHwAAAAdJB\n",
       "m25J4Q8mUwU8P//+qZYAAAMAAAMAfX3WgayEjG9ntb8ADDUYK+zzs9duWTvet4N2sDyQzTEo8e1S\n",
       "pH2D91i4X/EJaeIHv24m+cn+SXLzJEiCLVbfvY7g6yTy9nBP9hhdJTGjeYBrrQI6Lt7kqWm7E+hF\n",
       "H0K2brdzzy/NHbKKNBxOYHQ1EvXMTfqYEZEmosDlvfz9xj80BZiaPHBhih2eR/eavOOOsCzq8yg/\n",
       "XGSXzz0Kw1c/qpjxOVa6zNkpLEax75PQ5KLwcxkKcdqgBgBWlRtETGjm/FNFa3vXj/cNS1wJpw2F\n",
       "rHYKuGzGNaWSKBugvson7kTfc41oyTdVVlGdRMQtS2Be1bV17WB71vbMku3eeIk2Nu3HULc1fzMk\n",
       "Hi/46i2Rp1d8QqLoyOcKQY5AQ8vH7FLZCIhcogARbmJoSM7c02DNU+6AW7xRInxZqcwz+r9my2gW\n",
       "Kk7DFMSa5CzowMZuwDwsOOlINWEn03KessByBknBsDa4/Lcassy9Niei4pJqqhfhIYCXWWU5oAzp\n",
       "GsDZVeLNNqKI1q/J7BC3UrXWnNH+Ob0GofHmWA500MArE0CHwXc90dEi85iSRq0Rho7KlFBdTsmx\n",
       "gtBhKg5+jnuBAAAApwGfjWpDfwAAAwAAAwBa06lUiHS1k4Qfq2KTznBkk1sKBVD+dfccx9VSf8Hc\n",
       "MNCZe9LUSIpJQlUYH5aq9EUKDTqKwCVbJQ4RXYtbUsihjb+zhPEf0ZmccHiW3151C2FLDQZDF4gz\n",
       "dD4oukwBL/stBCfDVoXzHjp56yi5IMSzseyFQxQhHDAkiNS5dzY1Gsa6cIZBLBawJrCNc3P9X2FT\n",
       "UgvJfpfVWgcdAAABXEGbkEnhDyZTBTw7//6plgAAAwAAAwB6CAmlBOrT/NuAEp+16Jxve3E8kett\n",
       "8ezEvvUhnxqMh3JooktDZZO2AT7/5ocFtrsWu+q3vfq1pis3SFuTNNp7NZLud/TslqLkIQTrleln\n",
       "qtNlOaYOOSw9vvxgSUf2GYquf9iWJsujMzwr/ssp0Fx1Hb/8VsLvee/fhtKzs/fQm/dfTzXmO1SN\n",
       "voCpIwb/ehYmA2oFiuz77gdw2s8dmbIEyqOQIXF9u3hqbURcuHxP9ZWZvhw6zbpZAqAJjqJwty7w\n",
       "FVEt1ppQ/qJVTFsWIakKfZgsEwRZ42Am0trhhkubteYhKRxih6lymYfyXzAfOvx3X1LKWw4b8+ea\n",
       "Oyf8VzFkWO46FqZg85H6fQFWlwQ7oZhh2C0MIeRh7N7rjWKzUO99ePVvOUb8L9MTnlnSJsxFvkcF\n",
       "KGQohaxr+beGPAmGJa9s1GKUDwAAALMBn69qQ38AAAMAAAMAWJ3NFMus9WPrf4b8epG3PhahcZ20\n",
       "cbrMWPpnUKr02piL1eUbWd9DAZ3ruEzouE27A68LyBxeZ4deLDD9PhMburEz1kM8+mbltTGumD1V\n",
       "/hwUQmnjV1DbPeliZRfCSZGN54WpccBwHALf8U6EjE7+KRrrwaJ6J2QsUAm6C4tLC/4NWJJQyHBN\n",
       "laAwvjrCnHuN92/qN5NSwQwvi931FF/gqKinCWgNmAAAAOVBm7FJ4Q8mUwIb//6nhAAAAwAAAwDy\n",
       "hvr26rokALd6NvxUmDSf//hBv17IsPDMnfQ/mkcn8oXh6rXtIbYWZXcBIDlgaSBqIDfNdyhxLLfI\n",
       "SVbw7tg4CysNgPQERYRYd0PznlVyckWEIPA9xqB6DQWFE3hFh5qry5scjS7jgKIv4VEEU+AjO2gH\n",
       "lfPhCOhhszIxVLKpz+ZBzeoTAemPywCX6geUkA01Btca2IhHt35MrttLeyA7mI9cHLC6YII75EnV\n",
       "v6l3orgrxCBq4eGBbtQXwfiH0pCdxSvno8xBdE1REuI6WIXgAAAFRm1vb3YAAABsbXZoZAAAAAAA\n",
       "AAAAAAAAAAAAA+gAABOIAAEAAAEAAAAAAAAAAAAAAAABAAAAAAAAAAAAAAAAAAAAAQAAAAAAAAAA\n",
       "AAAAAAAAQAAAAAAAAAAAAAAAAAAAAAAAAAAAAAAAAAAAAAAAAAIAAARwdHJhawAAAFx0a2hkAAAA\n",
       "AwAAAAAAAAAAAAAAAQAAAAAAABOIAAAAAAAAAAAAAAAAAAAAAAABAAAAAAAAAAAAAAAAAAAAAQAA\n",
       "AAAAAAAAAAAAAAAAQAAAAANgAAACQAAAAAAAJGVkdHMAAAAcZWxzdAAAAAAAAAABAAATiAAACAAA\n",
       "AQAAAAAD6G1kaWEAAAAgbWRoZAAAAAAAAAAAAAAAAAAAKAAAAMgAVcQAAAAAAC1oZGxyAAAAAAAA\n",
       "AAB2aWRlAAAAAAAAAAAAAAAAVmlkZW9IYW5kbGVyAAAAA5NtaW5mAAAAFHZtaGQAAAABAAAAAAAA\n",
       "AAAAAAAkZGluZgAAABxkcmVmAAAAAAAAAAEAAAAMdXJsIAAAAAEAAANTc3RibAAAALNzdHNkAAAA\n",
       "AAAAAAEAAACjYXZjMQAAAAAAAAABAAAAAAAAAAAAAAAAAAAAAANgAkAASAAAAEgAAAAAAAAAAQAA\n",
       "AAAAAAAAAAAAAAAAAAAAAAAAAAAAAAAAAAAAAAAAABj//wAAADFhdmNDAWQAH//hABhnZAAfrNlA\n",
       "2BJoQAAAAwBAAAAFA8YMZYABAAZo6+PLIsAAAAAcdXVpZGtoQPJfJE/FujmlG88DI/MAAAAAAAAA\n",
       "GHN0dHMAAAAAAAAAAQAAADIAAAQAAAAAFHN0c3MAAAAAAAAAAQAAAAEAAAFgY3R0cwAAAAAAAAAq\n",
       "AAAACQAACAAAAAABAAAUAAAAAAEAAAgAAAAAAQAAAAAAAAABAAAEAAAAAAEAAAwAAAAAAQAABAAA\n",
       "AAABAAAMAAAAAAEAAAQAAAAAAQAADAAAAAABAAAEAAAAAAEAAAwAAAAAAQAABAAAAAABAAAMAAAA\n",
       "AAEAAAQAAAAAAQAADAAAAAABAAAEAAAAAAEAAAwAAAAAAQAABAAAAAABAAAMAAAAAAEAAAQAAAAA\n",
       "AQAADAAAAAABAAAEAAAAAAEAAAwAAAAAAQAABAAAAAABAAAMAAAAAAEAAAQAAAAAAQAADAAAAAAB\n",
       "AAAEAAAAAAEAAAwAAAAAAQAABAAAAAABAAAMAAAAAAEAAAQAAAAAAQAADAAAAAABAAAEAAAAAAEA\n",
       "AAwAAAAAAQAABAAAAAABAAAMAAAAAAEAAAQAAAAAAQAADAAAAAABAAAEAAAAAAEAAAgAAAAAHHN0\n",
       "c2MAAAAAAAAAAQAAAAEAAAAyAAAAAQAAANxzdHN6AAAAAAAAAAAAAAAyAAAOAAAACBcAAAV+AAAE\n",
       "IAAAA6sAAANWAAACbgAAAjYAAAImAAAFIwAAAZ4AAAEBAAABBAAAA68AAAD6AAADaQAAAP0AAAMa\n",
       "AAAA9AAAAxQAAAD6AAAC7gAAAPcAAANbAAAA2AAAAvkAAADSAAAC7gAAANwAAAMpAAAA0QAAA3cA\n",
       "AADCAAADfQAAAM0AAANpAAAA6AAAAsoAAADNAAADIwAAAMAAAAKgAAAAtwAAAiEAAAC6AAAB1gAA\n",
       "AKsAAAFgAAAAtwAAAOkAAAAUc3RjbwAAAAAAAAABAAAALAAAAGJ1ZHRhAAAAWm1ldGEAAAAAAAAA\n",
       "IWhkbHIAAAAAAAAAAG1kaXJhcHBsAAAAAAAAAAAAAAAALWlsc3QAAAAlqXRvbwAAAB1kYXRhAAAA\n",
       "AQAAAABMYXZmNTcuMTEuMTAw\n",
       "\">\n",
       "  Your browser does not support the video tag.\n",
       "</video>"
      ],
      "text/plain": [
       "<matplotlib.animation.FuncAnimation at 0x452e778048>"
      ]
     },
     "execution_count": 14,
     "metadata": {},
     "output_type": "execute_result"
    }
   ],
   "source": [
    "fig = plt.figure(figsize=(12, 8))\n",
    "ax = fig.add_subplot(111)\n",
    "\n",
    "x = np.linspace(0, nx*dx, nx)\n",
    "line, = ax.plot(x, u0[0,:])\n",
    "\n",
    "def animate(i):\n",
    "    print(\".\", end='', flush=True)\n",
    "    if (i > 0):\n",
    "        for k in range(10):\n",
    "            simulator.step()\n",
    "    \n",
    "    u2 = simulator.download()\n",
    "    line.set_ydata(u2)\n",
    "    \n",
    "    \n",
    "\n",
    "plt.rcParams[\"animation.html\"] = \"html5\"\n",
    "anim = animation.FuncAnimation(fig, animate, range(50), interval=100)\n",
    "plt.close()\n",
    "anim"
   ]
  },
  {
   "cell_type": "code",
   "execution_count": null,
   "metadata": {},
   "outputs": [],
   "source": []
  }
 ],
 "metadata": {
  "kernelspec": {
   "display_name": "Python 3",
   "language": "python",
   "name": "python3"
  },
  "language_info": {
   "codemirror_mode": {
    "name": "ipython",
    "version": 3
   },
   "file_extension": ".py",
   "mimetype": "text/x-python",
   "name": "python",
   "nbconvert_exporter": "python",
   "pygments_lexer": "ipython3",
   "version": "3.6.5"
  }
 },
 "nbformat": 4,
 "nbformat_minor": 2
}
